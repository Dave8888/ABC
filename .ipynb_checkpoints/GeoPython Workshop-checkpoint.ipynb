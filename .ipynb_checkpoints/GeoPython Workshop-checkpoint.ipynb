{
 "cells": [
  {
   "cell_type": "markdown",
   "metadata": {},
   "source": [
    "# GeoPython Workshop\n",
    "Welcome to the GeoPython Workshop!\n",
    "\n",
    "The GeoPython workshop aims to introduce Python programming as a means of manipulating geospatial data. The workshop will include exercises and problems where you will analyze and manipulate geospatial data. This workshop is for beginners to the Python programming language and geospatial data.\n",
    "\n",
    "\n",
    "## Requirements\n",
    " - Laptop\n",
    " - Python 2 or 3\n",
    " - Jupyter Notebook\n",
    "\n",
    "## Python Backgrounder\n",
    "*Python is a widely used high-level, general-purpose, interpreted, dynamic programming language. Its design philosophy emphasizes code readability, and its syntax allows programmers to express concepts in fewer lines of code than would be possible in languages such as C++ or Java.* - [Wikipedia](https://en.wikipedia.org/wiki/Python_%28programming_language%29)\n",
    "\n",
    "Python is authored by Guido Van Rossum a Dutch programmer. He is known as the Benevolent Dictator for Life. He was employed at Google for 7 years and currently works at Dropbox. \n",
    "\n",
    "Python is currently being used in a wide variety of applications and domains. \n",
    " - Data Science and Engineering\n",
    " - Software Engineering\n",
    " - System Management and Orchestration\n",
    " - Robotics\n",
    " - Journalism\n",
    " - Geospatial World\n",
    " - Disaster Risk Management and Mitigation\n",
    " - And many more\n",
    "\n",
    "![Python in the Real World](images/python_world1.jpg)\n",
    "\n",
    "## Why Python?\n",
    "There are many reasons why many programmers and scientists are shifting to Python.\n",
    " - Readability\n",
    " - Development Time\n",
    " - Flexibility\n",
    " - Large Library Support\n",
    " - Community\n",
    " - Compensation\n",
    " \n",
    "\n",
    "## Python Basics (20-30 mins)\n",
    "The power of Python is its ability for quick developments and readable syntax.\n",
    "\n",
    "### Printing a text or result\n",
    "In any programming language, printing your results is the bread and butter of your development and debugging. You can determine if your program is working properly just by a simple command. In printing a text, execute the following commands:"
   ]
  },
  {
   "cell_type": "code",
   "execution_count": 21,
   "metadata": {
    "collapsed": false
   },
   "outputs": [
    {
     "name": "stdout",
     "output_type": "stream",
     "text": [
      "FOSS4G waters!\n"
     ]
    }
   ],
   "source": [
    "print(\"FOSS4G waters!\")"
   ]
  },
  {
   "cell_type": "code",
   "execution_count": 22,
   "metadata": {
    "collapsed": false
   },
   "outputs": [
    {
     "name": "stdout",
     "output_type": "stream",
     "text": [
      "\n",
      "This is a multiline text.\n",
      "Python is awesome!        \n",
      "\n"
     ]
    }
   ],
   "source": [
    "print(\"\"\"\n",
    "This is a multiline text.\n",
    "Python is awesome!        \n",
    "\"\"\")"
   ]
  },
  {
   "cell_type": "markdown",
   "metadata": {},
   "source": [
    "### Variable Declaration and Simple Maths\n",
    "Python like any programming language can work with variables and use these variables for your computations. Unlike the other languages like c or java, Python can dynamically determine the variable type."
   ]
  },
  {
   "cell_type": "code",
   "execution_count": 23,
   "metadata": {
    "collapsed": false
   },
   "outputs": [
    {
     "name": "stdout",
     "output_type": "stream",
     "text": [
      "125.0\n"
     ]
    }
   ],
   "source": [
    "a = 25 # this is an integer\n",
    "b = 5.0 # this is a float\n",
    "c = \"Hello FOSS!\" # this is a string\n",
    "d = a * b\n",
    "print(a * b) # this is also the same as print(d)\n"
   ]
  },
  {
   "cell_type": "code",
   "execution_count": 24,
   "metadata": {
    "collapsed": false
   },
   "outputs": [
    {
     "name": "stdout",
     "output_type": "stream",
     "text": [
      "Hello FOSS!\n"
     ]
    }
   ],
   "source": [
    "print(c) # printing a variable with a value of a string"
   ]
  },
  {
   "cell_type": "markdown",
   "metadata": {},
   "source": [
    "### Python Lists\n",
    "We have a special data type in python what we call lists. Lists are your in memory \"databases\" which you can store information and access them later in your program."
   ]
  },
  {
   "cell_type": "code",
   "execution_count": 30,
   "metadata": {
    "collapsed": false
   },
   "outputs": [
    {
     "name": "stdout",
     "output_type": "stream",
     "text": [
      "[1, 2, 100, 4, 10, 23]\n",
      "10\n"
     ]
    }
   ],
   "source": [
    "e = [1,2,3,4,10,23] # this is a list of integers.\n",
    "f = [\"this\", \"is\", \"list\",  \"of\", \"strings\"]\n",
    "g = [\"a list\", \"of\", 2.6] # this is a list of mixed types.\n",
    "h = \"This is also a list\"\n",
    "i = e[-2]\n",
    "\n",
    "e[2] = 100 # set the element of a list using its index.\n",
    "\n",
    "print(e) # displaying the whole list.\n",
    "print(i) # display the 2nd to the last of a given list."
   ]
  },
  {
   "cell_type": "markdown",
   "metadata": {},
   "source": [
    "### Python Loops\n",
    "Like any programming language, Python can also implement loops. We have the following loops - for, while, and do-while. Take note that loops in Python are very slow due to its dynamically typed feature. For large or long mathematical loops it is recommended that you use some other Python libraries like Numpy or SciPy. "
   ]
  },
  {
   "cell_type": "code",
   "execution_count": 26,
   "metadata": {
    "collapsed": false
   },
   "outputs": [
    {
     "name": "stdout",
     "output_type": "stream",
     "text": [
      "this\n",
      "is\n",
      "list\n",
      "of\n",
      "strings\n"
     ]
    }
   ],
   "source": [
    "for x in f:\n",
    "    print(x)"
   ]
  },
  {
   "cell_type": "code",
   "execution_count": 27,
   "metadata": {
    "collapsed": false
   },
   "outputs": [
    {
     "name": "stdout",
     "output_type": "stream",
     "text": [
      "0\n",
      "1\n",
      "2\n",
      "3\n",
      "4\n",
      "5\n",
      "6\n",
      "7\n",
      "8\n",
      "9\n"
     ]
    }
   ],
   "source": [
    "for x in xrange(10): # xrange is deprecated in python 3. just use range instead of xrange\n",
    "    print(x)"
   ]
  },
  {
   "cell_type": "markdown",
   "metadata": {},
   "source": [
    "### Controlling the Loops: If-ElIf-Else and Conditional Statements\n",
    "Python like any programming language, allows you to have conditional statements where you will apply certain criteria that you want to achieve. Let's say you want to determine the numbers greater than 3 in the following list.  "
   ]
  },
  {
   "cell_type": "code",
   "execution_count": 28,
   "metadata": {
    "collapsed": false
   },
   "outputs": [
    {
     "name": "stdout",
     "output_type": "stream",
     "text": [
      "bazzingga!\n",
      "5\n",
      "3.1\n",
      "bazzingga!\n",
      "bazzingga!\n",
      "test\n"
     ]
    }
   ],
   "source": [
    "k = [2, 5, 3.1, 0, -2, \"test\"]\n",
    "for j in k:\n",
    "    if(j > 2.5):\n",
    "        print(j)\n",
    "    #elif(j == 0):\n",
    "    #    break\n",
    "    else:\n",
    "        print(\"bazzingga!\")"
   ]
  },
  {
   "cell_type": "markdown",
   "metadata": {},
   "source": [
    "As you can see, string data types are treated greater than numerical data types like integers and floats."
   ]
  },
  {
   "cell_type": "markdown",
   "metadata": {},
   "source": [
    "## Python for Geospatial Applications\n",
    "Currently the Python programming language is being used as a scripting language to automate different tasks for different GIS platforms like QGIS, Grass GIS and ArcGIS. Python is also used to create Web-based Geographic Information Systems (WebGIS) which is now becoming more popular since most people are now hooked up into their phones and computers.\n",
    "\n",
    "\n",
    "### Handling Geospatial Data\n",
    "We have two main kinds of data the raster and vector. Vector datasets are represented as points, lines, and polygons. Most vector data are useful for storing data that has discrete boundaries such land parcels, roads, buildings, points of interest and many others. Raster datasets are generally represented by rectangular grid of pixels. Raster data is focused on modelling continuous phenomena and images of the earth. Generally raster data are your satellite images, digital elevation models, dsm, and others.\n",
    "\n",
    "![Raster vs Vector](images/raster_vector.gif)\n",
    "\n",
    "### Vector x Python\n",
    "Python has several libraries in manipulating and analyzing vector data. Famous libraries include OGR, shapely and fiona.\n",
    "\n",
    "### Situation 1: Common Data into Geospatial Data\n",
    "Turning comma separated values (CSV) into geospatial data. Suppose we have a CSV file containing attributes like name, description, latitude, longitude etc, we want to turn this csv into a shapefile so we can load this into QGIS."
   ]
  },
  {
   "cell_type": "code",
   "execution_count": null,
   "metadata": {
    "collapsed": true
   },
   "outputs": [],
   "source": []
  }
 ],
 "metadata": {
  "kernelspec": {
   "display_name": "Python 2",
   "language": "python",
   "name": "python2"
  },
  "language_info": {
   "codemirror_mode": {
    "name": "ipython",
    "version": 2
   },
   "file_extension": ".py",
   "mimetype": "text/x-python",
   "name": "python",
   "nbconvert_exporter": "python",
   "pygments_lexer": "ipython2",
   "version": "2.7.6"
  }
 },
 "nbformat": 4,
 "nbformat_minor": 0
}
