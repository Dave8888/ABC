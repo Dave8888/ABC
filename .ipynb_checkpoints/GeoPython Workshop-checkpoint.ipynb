{
 "cells": [
  {
   "cell_type": "markdown",
   "metadata": {},
   "source": [
    "# GeoPython Workshop\n",
    "Welcome to the GeoPython Workshop!\n",
    "\n",
    "The GeoPython workshop aims to introduce Python programming as a means of manipulating geospatial data. The workshop will include exercises and problems where you will analyze and manipulate geospatial data. This workshop is for beginners to the Python programming language and geospatial data.\n",
    "\n",
    "\n",
    "## Requirements\n",
    " - Laptop\n",
    " - Python 2 or 3\n",
    " - Jupyter Notebook\n",
    " - Fiona\n",
    " - Shapely\n",
    " - Gdal\n",
    " - Rasterio\n",
    " - Folium\n",
    "\n",
    "## Python Backgrounder\n",
    "*Python is a widely used high-level, general-purpose, interpreted, dynamic programming language. Its design philosophy emphasizes code readability, and its syntax allows programmers to express concepts in fewer lines of code than would be possible in languages such as C++ or Java.* - [Wikipedia](https://en.wikipedia.org/wiki/Python_%28programming_language%29)\n",
    "\n",
    "Python is authored by Guido Van Rossum a Dutch programmer. He is known as the Benevolent Dictator for Life. He was employed at Google for 7 years and currently works at Dropbox. \n",
    "\n",
    "Python is currently being used in a wide variety of applications and domains. \n",
    " - Data Science and Engineering\n",
    " - Software Engineering\n",
    " - System Management and Orchestration\n",
    " - Robotics\n",
    " - Journalism\n",
    " - Geospatial World\n",
    " - Disaster Risk Management and Mitigation\n",
    " - And many more\n",
    "\n",
    "![Python in the Real World](images/python_world1.jpg)\n",
    "\n",
    "## Why Python?\n",
    "There are many reasons why many programmers and scientists are shifting to Python.\n",
    " - Readability\n",
    " - Development Time\n",
    " - Flexibility\n",
    " - Large Library Support\n",
    " - Community\n",
    " - Compensation\n",
    " \n",
    "\n",
    "## Python 101\n",
    "The power of Python is its ability for quick developments and readable syntax.\n",
    "\n",
    "### Printing a text or result\n",
    "In any programming language, printing your results is the bread and butter of your development and debugging. You can determine if your program is working properly just by a simple command. In printing a text, execute the following commands:"
   ]
  },
  {
   "cell_type": "code",
   "execution_count": 21,
   "metadata": {
    "collapsed": false
   },
   "outputs": [
    {
     "name": "stdout",
     "output_type": "stream",
     "text": [
      "FOSS4G waters!\n"
     ]
    }
   ],
   "source": [
    "print(\"FOSS4G waters!\")"
   ]
  },
  {
   "cell_type": "code",
   "execution_count": 22,
   "metadata": {
    "collapsed": false
   },
   "outputs": [
    {
     "name": "stdout",
     "output_type": "stream",
     "text": [
      "\n",
      "This is a multiline text.\n",
      "Python is awesome!        \n",
      "\n"
     ]
    }
   ],
   "source": [
    "print(\"\"\"\n",
    "This is a multiline text.\n",
    "Python is awesome!        \n",
    "\"\"\")"
   ]
  },
  {
   "cell_type": "markdown",
   "metadata": {},
   "source": [
    "### Variable Declaration and Simple Maths\n",
    "Python like any programming language can work with variables and use these variables for your computations. Unlike the other languages like c or java, Python can dynamically determine the variable type."
   ]
  },
  {
   "cell_type": "code",
   "execution_count": 23,
   "metadata": {
    "collapsed": false
   },
   "outputs": [
    {
     "name": "stdout",
     "output_type": "stream",
     "text": [
      "125.0\n"
     ]
    }
   ],
   "source": [
    "a = 25 # this is an integer\n",
    "b = 5.0 # this is a float\n",
    "c = \"Hello FOSS!\" # this is a string\n",
    "d = a * b\n",
    "print(a * b) # this is also the same as print(d)\n"
   ]
  },
  {
   "cell_type": "code",
   "execution_count": 24,
   "metadata": {
    "collapsed": false
   },
   "outputs": [
    {
     "name": "stdout",
     "output_type": "stream",
     "text": [
      "Hello FOSS!\n"
     ]
    }
   ],
   "source": [
    "print(c) # printing a variable with a value of a string"
   ]
  },
  {
   "cell_type": "markdown",
   "metadata": {},
   "source": [
    "### Python Lists\n",
    "We have a special data type in python what we call lists. Lists are your in memory \"databases\" which you can store information and access them later in your program."
   ]
  },
  {
   "cell_type": "code",
   "execution_count": 30,
   "metadata": {
    "collapsed": false
   },
   "outputs": [
    {
     "name": "stdout",
     "output_type": "stream",
     "text": [
      "[1, 2, 100, 4, 10, 23]\n",
      "10\n"
     ]
    }
   ],
   "source": [
    "e = [1,2,3,4,10,23] # this is a list of integers.\n",
    "f = [\"this\", \"is\", \"list\",  \"of\", \"strings\"]\n",
    "g = [\"a list\", \"of\", 2.6] # this is a list of mixed types.\n",
    "h = \"This is also a list\"\n",
    "i = e[-2]\n",
    "\n",
    "e[2] = 100 # set the element of a list using its index.\n",
    "\n",
    "print(e) # displaying the whole list.\n",
    "print(i) # display the 2nd to the last of a given list.\n",
    "# e.append(7000) # this adds an element to the last index of the list e\n",
    "# print(e)"
   ]
  },
  {
   "cell_type": "markdown",
   "metadata": {},
   "source": [
    "### List Operations\n",
    "Python has some built-in functions for handling lists like max, min, len, sorted."
   ]
  },
  {
   "cell_type": "code",
   "execution_count": 36,
   "metadata": {
    "collapsed": false
   },
   "outputs": [
    {
     "name": "stdout",
     "output_type": "stream",
     "text": [
      "6\n"
     ]
    }
   ],
   "source": [
    "print(len(e)) # displays the number of elements"
   ]
  },
  {
   "cell_type": "markdown",
   "metadata": {},
   "source": [
    "### Python Loops\n",
    "Like any programming language, Python can also implement loops. We have the following loops - for, while, and do-while. Take note that loops in Python are very slow due to its dynamically typed feature. For large or long mathematical loops it is recommended that you use some other Python libraries like Numpy or SciPy. "
   ]
  },
  {
   "cell_type": "code",
   "execution_count": 26,
   "metadata": {
    "collapsed": false
   },
   "outputs": [
    {
     "name": "stdout",
     "output_type": "stream",
     "text": [
      "this\n",
      "is\n",
      "list\n",
      "of\n",
      "strings\n"
     ]
    }
   ],
   "source": [
    "for x in f:\n",
    "    print(x)"
   ]
  },
  {
   "cell_type": "code",
   "execution_count": 27,
   "metadata": {
    "collapsed": false
   },
   "outputs": [
    {
     "name": "stdout",
     "output_type": "stream",
     "text": [
      "0\n",
      "1\n",
      "2\n",
      "3\n",
      "4\n",
      "5\n",
      "6\n",
      "7\n",
      "8\n",
      "9\n"
     ]
    }
   ],
   "source": [
    "for x in xrange(10): # xrange is deprecated in python 3. just use range instead of xrange\n",
    "    print(x)"
   ]
  },
  {
   "cell_type": "markdown",
   "metadata": {},
   "source": [
    "### Controlling the Loops: If-ElIf-Else and Conditional Statements\n",
    "Python like any programming language, allows you to have conditional statements where you will apply certain criteria that you want to achieve. Let's say you want to determine the numbers greater than 3 in the following list.  "
   ]
  },
  {
   "cell_type": "code",
   "execution_count": 28,
   "metadata": {
    "collapsed": false
   },
   "outputs": [
    {
     "name": "stdout",
     "output_type": "stream",
     "text": [
      "bazzingga!\n",
      "5\n",
      "3.1\n",
      "bazzingga!\n",
      "bazzingga!\n",
      "test\n"
     ]
    }
   ],
   "source": [
    "k = [2, 5, 3.1, 0, -2, \"test\"]\n",
    "for j in k:\n",
    "    if(j > 2.5):\n",
    "        print(j)\n",
    "    #elif(j == 0):\n",
    "    #    break\n",
    "    else:\n",
    "        print(\"bazzingga!\")"
   ]
  },
  {
   "cell_type": "markdown",
   "metadata": {},
   "source": [
    "As you can see, string data types are treated greater than numerical data types like integers and floats."
   ]
  },
  {
   "cell_type": "markdown",
   "metadata": {},
   "source": [
    "## Python for Geospatial Applications\n",
    "Currently the Python programming language is being used as a scripting language to automate different tasks for different GIS platforms like QGIS, Grass GIS and ArcGIS. Python is also used to create Web-based Geographic Information Systems (WebGIS) which is now becoming more popular since most people are now hooked up into their phones and computers. So why use Python instead of using a desktop GIS system? We want to use Python as a means of manipulating geospatial data because we want to have a workflow independent from any GIS software/vendor. \n",
    "\n",
    "\n",
    "### Handling Geospatial Data\n",
    "We have two main kinds of data the raster and vector. Vector datasets are represented as points, lines, and polygons. Most vector data are useful for storing data that has discrete boundaries such land parcels, roads, buildings, points of interest and many others. Raster datasets are generally represented by rectangular grid of pixels. Raster data is focused on modelling continuous phenomena and images of the earth. Generally raster data are your satellite images, digital elevation models, dsm, and others.\n",
    "\n",
    "![Raster vs Vector](images/raster_vector.gif)\n",
    "\n",
    "### Vector x Python\n",
    "Python has several libraries in manipulating and analyzing vector data. Famous libraries include OGR, shapely and fiona. Some of the vector file extensions or formats are as follows:\n",
    " - shp (ESRI Shapefile)\n",
    " - kmz and kml (Keyhole Markup Language)\n",
    " - csv (Comma Separated Values)\n",
    " - geojson (geospatial javascript object notation)\n",
    " - dxf\n",
    " - xyz\n",
    "\n",
    "### Situation 1: Common Data into Geospatial Data (CSV to SHP)\n",
    "Most geospatial data are from spreadsheets, text files or even pdfs - so we have to convert them to make sense out of these data. \n",
    "\n",
    "In this example we will be turning comma separated values (CSV) into geospatial data. Suppose we have a CSV file containing attributes like name, description, latitude, longitude etc, we want to turn this csv into a shapefile so we can load this into QGIS. The code tutorial came from Tom Macwright which can be viewed [here.](http://www.macwright.org/2012/10/31/gis-with-python-shapely-fiona.html)"
   ]
  },
  {
   "cell_type": "code",
   "execution_count": 11,
   "metadata": {
    "collapsed": false
   },
   "outputs": [
    {
     "name": "stdout",
     "output_type": "stream",
     "text": [
      "{'Max Value': '1327512.36221', 'Latitude': '19.392', 'Place': 'Katanapan Point-Cagayan Valley', 'id': '1', 'Longitude': '121.156'}\n",
      "{'Max Value': '1262860.15324', 'Latitude': '19.4', 'Place': 'Katanapan Point-Cagayan Valley', 'id': '2', 'Longitude': '121.156'}\n",
      "{'Max Value': '1253266.53637', 'Latitude': '19.352', 'Place': 'Cabudadan-Cagayan Valley', 'id': '3', 'Longitude': '121.444'}\n",
      "{'Max Value': '1244616.1615', 'Latitude': '18.936', 'Place': 'Cape Bojeador-Ilocos', 'id': '4', 'Longitude': '119.996'}\n",
      "{'Max Value': '1223701.93723', 'Latitude': '18.936', 'Place': 'Cape Bojeador-Ilocos', 'id': '5', 'Longitude': '119.988'}\n",
      "{'Max Value': '1197975.16676', 'Latitude': '19.408', 'Place': 'Katanapan Point-Cagayan Valley', 'id': '6', 'Longitude': '121.148'}\n",
      "{'Max Value': '1186722.44419', 'Latitude': '19.344', 'Place': 'Cabudadan-Cagayan Valley', 'id': '7', 'Longitude': '121.444'}\n",
      "{'Max Value': '1179809.84815', 'Latitude': '19.4', 'Place': 'Katanapan Point-Cagayan Valley', 'id': '8', 'Longitude': '121.148'}\n",
      "{'Max Value': '1148528.01435', 'Latitude': '19.384', 'Place': 'Katanapan Point-Cagayan Valley', 'id': '9', 'Longitude': '121.18'}\n",
      "{'Max Value': '1127088.12284', 'Latitude': '18.944', 'Place': 'cannot be geocoded', 'id': '10', 'Longitude': '119.964'}\n"
     ]
    }
   ],
   "source": [
    "import csv # let's use an external library to read csv files\n",
    "with open('data/top10sites.csv', 'rb') as csvfile:\n",
    "    reader = csv.DictReader(csvfile) # this converts each row into a python dictionary - it is almost the same as lists but instead of numerical indeces you have keys to access data.\n",
    "    for row in reader:\n",
    "        print(row)\n",
    "        #print(row[\"Place\"]) # you can access data using a certain key"
   ]
  },
  {
   "cell_type": "code",
   "execution_count": 1,
   "metadata": {
    "collapsed": false
   },
   "outputs": [
    {
     "name": "stdout",
     "output_type": "stream",
     "text": [
      "POINT (121.156 19.392)\n",
      "POINT (121.156 19.4)\n",
      "POINT (121.444 19.352)\n",
      "POINT (119.996 18.936)\n",
      "POINT (119.988 18.936)\n",
      "POINT (121.148 19.408)\n",
      "POINT (121.444 19.344)\n",
      "POINT (121.148 19.4)\n",
      "POINT (121.18 19.384)\n",
      "POINT (119.964 18.944)\n"
     ]
    }
   ],
   "source": [
    "# Now that we can read a csv. Let us try to convert the latitude and longitude into actual point geometries\n",
    "import csv\n",
    "from shapely.geometry import Point\n",
    "\n",
    "with open('data/top10sites.csv', 'rb') as csvfile:\n",
    "    reader = csv.DictReader(csvfile)\n",
    "    for row in reader:\n",
    "        point = Point(float(row['Longitude']), float(row['Latitude']))\n",
    "        print(point)"
   ]
  },
  {
   "cell_type": "code",
   "execution_count": 3,
   "metadata": {
    "collapsed": false
   },
   "outputs": [],
   "source": [
    "# Once we have finished converting each latitude and longitude into actual geometries we can now convert them into actual shapefiles.\n",
    "import csv\n",
    "from shapely.geometry import Point, mapping\n",
    "from fiona import collection\n",
    "\n",
    "# We are now defining the structure of the shapefile - remember that we can create either a point, line, polygon for the shapefile.\n",
    "schema = { 'geometry': 'Point', 'properties': { 'place': 'str' } }\n",
    "with collection(\n",
    "    \"output/top10sites.shp\", \"w\", \"ESRI Shapefile\", schema) as output:\n",
    "    with open('data/top10sites.csv', 'rb') as f:\n",
    "        reader = csv.DictReader(f)\n",
    "        for row in reader:\n",
    "            point = Point(float(row['Longitude']), float(row['Latitude']))\n",
    "            # we are now writing the shapefile\n",
    "            output.write({\n",
    "                'properties': {\n",
    "                    'place': row['Place']\n",
    "                },\n",
    "                'geometry': mapping(point)\n",
    "            })"
   ]
  },
  {
   "cell_type": "markdown",
   "metadata": {},
   "source": [
    "### Situation 2: Reading SHP Files\n",
    "Most GIS vector data are written with Esri's shapefiles(SHP). Shapefiles is a group of files which contain the projection, attributes and geometry of the object they represent. In this scenario, we will try to read the shapefile that we have produced from the previous situation. We both of the libraries that we have used in the previous example. "
   ]
  },
  {
   "cell_type": "code",
   "execution_count": 3,
   "metadata": {
    "collapsed": false
   },
   "outputs": [
    {
     "name": "stdout",
     "output_type": "stream",
     "text": [
      "POINT (121.156 19.392)\n",
      "POINT (121.156 19.4)\n",
      "POINT (121.444 19.352)\n",
      "POINT (119.996 18.936)\n",
      "POINT (119.988 18.936)\n",
      "POINT (121.148 19.408)\n",
      "POINT (121.444 19.344)\n",
      "POINT (121.148 19.4)\n",
      "POINT (121.18 19.384)\n",
      "POINT (119.964 18.944)\n"
     ]
    }
   ],
   "source": [
    "from fiona import collection\n",
    "from shapely.geometry import Point, shape\n",
    "with collection(\"output/top10sites.shp\", \"r\") as input:\n",
    "    for point in input:\n",
    "        print shape(point['geometry'])"
   ]
  },
  {
   "cell_type": "markdown",
   "metadata": {},
   "source": [
    "You will notice that the output of the script is the same as the result in situation 1 when converting the latitude and longitude into point geometries.\n",
    "\n",
    "### Challenge 1: (Center of the View)\n",
    "Every shapefile can be encapsulated by a bounding box. Your job is to determine the center of the shapefile using its bounding box. We will need this in the next section. \n",
    "\n",
    "**Hint** How do we determine the center of a square?"
   ]
  },
  {
   "cell_type": "code",
   "execution_count": 4,
   "metadata": {
    "collapsed": false
   },
   "outputs": [
    {
     "name": "stdout",
     "output_type": "stream",
     "text": [
      "[19.172, 120.70400000000001]\n"
     ]
    }
   ],
   "source": [
    "lng = []\n",
    "lat = []\n",
    "with collection(\"output/top10sites.shp\", \"r\") as input:\n",
    "    for point in input:\n",
    "        lng.append(point['geometry']['coordinates'][0])\n",
    "        lat.append(point['geometry']['coordinates'][1])\n",
    "\n",
    "centerlng = (max(lng) + min(lng)) * 0.5\n",
    "centerlat = (max(lat) + min(lat)) * 0.5\n",
    "\n",
    "center = [centerlat, centerlng]\n",
    "print(center)"
   ]
  },
  {
   "cell_type": "markdown",
   "metadata": {},
   "source": [
    "### Situation 3: Visualizing Vector Data\n",
    "There are many visualization libraries in Python like Matplotlib, Bokeh, Seaborn, etc. In this example, we will use folium which helps us in visualizing geospatial data. Folium uses leaflet js as its mapping platform so it simplifies our visualization workflow.\n",
    "\n",
    "**Creating a Basemap**"
   ]
  },
  {
   "cell_type": "code",
   "execution_count": 19,
   "metadata": {
    "collapsed": false,
    "scrolled": false
   },
   "outputs": [
    {
     "data": {
      "text/html": [
       "<div style=\"width:100%;\"><div style=\"position:relative;width:100%;height:0;padding-bottom:60%;\"><iframe src=\"data:text/html;base64,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\" style=\"position:absolute;width:100%;height:100%;left:0;top:0;\"></iframe></div></div>"
      ],
      "text/plain": [
       "<folium.folium.Map at 0x7f43900a1b10>"
      ]
     },
     "execution_count": 19,
     "metadata": {},
     "output_type": "execute_result"
    }
   ],
   "source": [
    "import folium\n",
    "map_osm = folium.Map(location=center, zoom_start=5) # adding a basemap\n",
    "map_osm\n"
   ]
  },
  {
   "cell_type": "markdown",
   "metadata": {},
   "source": [
    "**Add the vector on the map**"
   ]
  },
  {
   "cell_type": "code",
   "execution_count": 18,
   "metadata": {
    "collapsed": false
   },
   "outputs": [
    {
     "data": {
      "text/html": [
       "<div style=\"width:100%;\"><div style=\"position:relative;width:100%;height:0;padding-bottom:60%;\"><iframe src=\"data:text/html;base64,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\" style=\"position:absolute;width:100%;height:100%;left:0;top:0;\"></iframe></div></div>"
      ],
      "text/plain": [
       "<folium.folium.Map at 0x7f43a8180f50>"
      ]
     },
     "execution_count": 18,
     "metadata": {},
     "output_type": "execute_result"
    }
   ],
   "source": [
    "from fiona import collection\n",
    "from shapely.geometry import Point, shape\n",
    "with collection(\"output/top10sites.shp\", \"r\") as input:\n",
    "    for point in input:\n",
    "        folium.Marker([point['geometry']['coordinates'][1], point['geometry']['coordinates'][0]], popup=point['properties']['place']).add_to(map_osm)\n",
    "map_osm"
   ]
  }
 ],
 "metadata": {
  "kernelspec": {
   "display_name": "Python 2",
   "language": "python",
   "name": "python2"
  },
  "language_info": {
   "codemirror_mode": {
    "name": "ipython",
    "version": 2
   },
   "file_extension": ".py",
   "mimetype": "text/x-python",
   "name": "python",
   "nbconvert_exporter": "python",
   "pygments_lexer": "ipython2",
   "version": "2.7.6"
  }
 },
 "nbformat": 4,
 "nbformat_minor": 0
}
