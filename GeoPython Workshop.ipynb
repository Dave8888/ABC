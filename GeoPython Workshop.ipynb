{
 "cells": [
  {
   "cell_type": "code",
   "execution_count": 1,
   "metadata": {
    "collapsed": false
   },
   "outputs": [
    {
     "name": "stdout",
     "output_type": "stream",
     "text": [
      "abc\n"
     ]
    }
   ],
   "source": [
    "print(\"abc\")"
   ]
  },
  {
   "cell_type": "code",
   "execution_count": 2,
   "metadata": {
    "collapsed": false
   },
   "outputs": [
    {
     "name": "stdout",
     "output_type": "stream",
     "text": [
      "sadfwewaefwagwe\n"
     ]
    }
   ],
   "source": [
    "print(\"sadfwe\"\n",
    "     \"waefwagwe\")"
   ]
  },
  {
   "cell_type": "code",
   "execution_count": 3,
   "metadata": {
    "collapsed": false
   },
   "outputs": [
    {
     "name": "stdout",
     "output_type": "stream",
     "text": [
      "FOSS4G waters!\n"
     ]
    }
   ],
   "source": [
    "print(\"FOSS4G waters!\")"
   ]
  },
  {
   "cell_type": "code",
   "execution_count": 4,
   "metadata": {
    "collapsed": false
   },
   "outputs": [
    {
     "name": "stdout",
     "output_type": "stream",
     "text": [
      "\n",
      "This is a multiline text.\n",
      "Python is awesome!        \n",
      "\n"
     ]
    }
   ],
   "source": [
    "print(\"\"\"\n",
    "This is a multiline text.\n",
    "Python is awesome!        \n",
    "\"\"\")"
   ]
  },
  {
   "cell_type": "code",
   "execution_count": 5,
   "metadata": {
    "collapsed": false
   },
   "outputs": [
    {
     "name": "stdout",
     "output_type": "stream",
     "text": [
      "ewaf\n",
      "afewfwe\n"
     ]
    }
   ],
   "source": [
    "print('ewaf\\nafewfwe')"
   ]
  },
  {
   "cell_type": "markdown",
   "metadata": {},
   "source": [
    "### Variable Declaration and Simple Maths\n",
    "Python like any programming language can work with variables and use these variables for your computations. Unlike the other languages like c or java, Python can dynamically determine the variable type."
   ]
  },
  {
   "cell_type": "code",
   "execution_count": 6,
   "metadata": {
    "collapsed": false
   },
   "outputs": [
    {
     "name": "stdout",
     "output_type": "stream",
     "text": [
      "125.0\n"
     ]
    }
   ],
   "source": [
    "a = 25 # this is an integer\n",
    "b = 5.0 # this is a float\n",
    "c = \"Hello FOSS!\" # this is a string\n",
    "d = a * b\n",
    "print(a * b) # this is also the same as print(d)\n"
   ]
  },
  {
   "cell_type": "code",
   "execution_count": 7,
   "metadata": {
    "collapsed": false
   },
   "outputs": [
    {
     "name": "stdout",
     "output_type": "stream",
     "text": [
      "Hello FOSS!\n"
     ]
    }
   ],
   "source": [
    "print(c) # printing a variable with a value of a string"
   ]
  },
  {
   "cell_type": "code",
   "execution_count": 8,
   "metadata": {
    "collapsed": false
   },
   "outputs": [
    {
     "name": "stdout",
     "output_type": "stream",
     "text": [
      "Hello FOSS! 125.0\n"
     ]
    }
   ],
   "source": [
    "print(c+' '+str(d))"
   ]
  },
  {
   "cell_type": "markdown",
   "metadata": {},
   "source": [
    "### Python Lists\n",
    "We have a special data type in python what we call lists. Lists are your in memory \"databases\" which you can store information and access them later in your program. <br />\n",
    "**Note: **The nth element of a list is always n-1."
   ]
  },
  {
   "cell_type": "code",
   "execution_count": 9,
   "metadata": {
    "collapsed": false
   },
   "outputs": [
    {
     "name": "stdout",
     "output_type": "stream",
     "text": [
      "[1, 2, 100, 4, 10, 23]\n",
      "10\n",
      "[1, 2, 100, 4, 10, 23, 7000]\n"
     ]
    }
   ],
   "source": [
    "e = [1,2,3,4,10,23] # this is a list of integers.\n",
    "f = [\"this\", \"is\", \"list\",  \"of\", \"strings\"]\n",
    "g = [\"a list\", \"of\", 2.6] # this is a list of mixed types.\n",
    "h = \"This is also a list\"\n",
    "i = e[-2]\n",
    "\n",
    "e[2] = 100 # set the element of a list using its index.\n",
    "\n",
    "print(e) # displaying the whole list.\n",
    "print(i) # display the 2nd to the last of a given list.\n",
    "# e.append(7000) # this adds an element to the last index of the list e\n",
    "# print(e)\n",
    "e.append(7000)\n",
    "print(e)"
   ]
  },
  {
   "cell_type": "markdown",
   "metadata": {},
   "source": [
    "### List Operations\n",
    "Python has some built-in functions for handling lists like max, min, len, sorted."
   ]
  },
  {
   "cell_type": "code",
   "execution_count": 10,
   "metadata": {
    "collapsed": false
   },
   "outputs": [
    {
     "name": "stdout",
     "output_type": "stream",
     "text": [
      "7\n"
     ]
    }
   ],
   "source": [
    "print(len(e)) # displays the number of elements"
   ]
  },
  {
   "cell_type": "markdown",
   "metadata": {},
   "source": [
    "### Python Dictionaries\n",
    "A python dictionary is a special data type. Like lists it is an \"in-memory database\" where you can store a result/information. It uses a key to access information. A dictionary has a curly brace syntax \"{key:value}\" To add an element to a dictionary you can use the update function/method. Since most web apis return a type of key value store, it is relevant to learn how to access data in a dictionary. \n"
   ]
  },
  {
   "cell_type": "code",
   "execution_count": 11,
   "metadata": {
    "collapsed": false
   },
   "outputs": [
    {
     "name": "stdout",
     "output_type": "stream",
     "text": [
      "foss4g\n",
      "workshop\n",
      "jupyter\n",
      "3\n"
     ]
    }
   ],
   "source": [
    "dictionary = {\"event\":\"foss4g\"}\n",
    "print(dictionary[\"event\"])\n",
    "dictionary.update({\"event2\":\"workshop\"})\n",
    "print(dictionary[\"event2\"])\n",
    "dictionary.update({\"event3\":\"jupyter\"})\n",
    "print(dictionary[\"event3\"])\n",
    "print(len(dictionary))"
   ]
  },
  {
   "cell_type": "markdown",
   "metadata": {},
   "source": [
    "### Python Loops\n",
    "Like any programming language, Python can also implement loops. We have the following loops - for, while, and do-while. Take note that loops in Python are very slow due to its dynamically typed feature. For large or long mathematical loops it is recommended that you use some other Python libraries like Numpy or SciPy. "
   ]
  },
  {
   "cell_type": "code",
   "execution_count": 12,
   "metadata": {
    "collapsed": false
   },
   "outputs": [
    {
     "name": "stdout",
     "output_type": "stream",
     "text": [
      "this\n",
      "is\n",
      "list\n",
      "of\n",
      "strings\n"
     ]
    }
   ],
   "source": [
    "for x in f:\n",
    "    print(x)"
   ]
  },
  {
   "cell_type": "code",
   "execution_count": 13,
   "metadata": {
    "collapsed": false
   },
   "outputs": [
    {
     "name": "stdout",
     "output_type": "stream",
     "text": [
      "0\n",
      "1\n",
      "2\n",
      "3\n",
      "4\n",
      "5\n",
      "6\n",
      "7\n",
      "8\n",
      "9\n"
     ]
    }
   ],
   "source": [
    "for x in xrange(10): # xrange is deprecated in python 3. just use range instead of xrange\n",
    "    print(x)"
   ]
  },
  {
   "cell_type": "markdown",
   "metadata": {},
   "source": [
    "### Controlling the Loops: If-ElIf-Else and Conditional Statements\n",
    "Python like any programming language, allows you to have conditional statements where you will apply certain criteria that you want to achieve. Let's say you want to determine the numbers greater than 3 in the following list.  "
   ]
  },
  {
   "cell_type": "code",
   "execution_count": 14,
   "metadata": {
    "collapsed": false
   },
   "outputs": [
    {
     "name": "stdout",
     "output_type": "stream",
     "text": [
      "bazzingga!\n",
      "5\n",
      "3.1\n",
      "bazzingga!\n",
      "bazzingga!\n",
      "test\n"
     ]
    }
   ],
   "source": [
    "k = [2, 5, 3.1, 0, -2, \"test\"]\n",
    "for j in k:\n",
    "    if(j > 2.5):\n",
    "        print(j)\n",
    "    #elif(j == 0):\n",
    "    #    break\n",
    "    else:\n",
    "        print(\"bazzingga!\")"
   ]
  },
  {
   "cell_type": "markdown",
   "metadata": {},
   "source": [
    "As you can see, string data types are treated greater than numerical data types like integers and floats. <br />"
   ]
  },
  {
   "cell_type": "markdown",
   "metadata": {},
   "source": [
    "The syntax of Python is very easy to learn but you will need to practice and invest time for you to be proficient on it. It should also be noted that the Python language has a wide extent of functionalities and libraries which are not covered in this workshop but for our purposes today the basics of Python is already enough.   "
   ]
  },
  {
   "cell_type": "code",
   "execution_count": 15,
   "metadata": {
    "collapsed": false
   },
   "outputs": [
    {
     "name": "stdout",
     "output_type": "stream",
     "text": [
      "POINT (121.156 19.392)\n",
      "POINT (121.156 19.4)\n",
      "POINT (121.444 19.352)\n",
      "POINT (119.996 18.936)\n",
      "POINT (119.988 18.936)\n",
      "POINT (121.148 19.408)\n",
      "POINT (121.444 19.344)\n",
      "POINT (121.148 19.4)\n",
      "POINT (121.18 19.384)\n",
      "POINT (119.964 18.944)\n"
     ]
    }
   ],
   "source": [
    "# Now that we can read a csv. Let us try to convert the latitude and longitude into actual point geometries\n",
    "import csv\n",
    "from shapely.geometry import Point\n",
    "\n",
    "with open('data/top10sites.csv', 'rb') as csvfile:\n",
    "    reader = csv.DictReader(csvfile)\n",
    "    for row in reader:\n",
    "        point = Point(float(row['Longitude']), float(row['Latitude']))\n",
    "        print(point)"
   ]
  },
  {
   "cell_type": "code",
   "execution_count": 1,
   "metadata": {
    "collapsed": false
   },
   "outputs": [
    {
     "ename": "ImportError",
     "evalue": "DLL load failed: The specified procedure could not be found.",
     "output_type": "error",
     "traceback": [
      "\u001b[0;31m---------------------------------------------------------------------------\u001b[0m",
      "\u001b[0;31mImportError\u001b[0m                               Traceback (most recent call last)",
      "\u001b[0;32m<ipython-input-1-69b18faa989f>\u001b[0m in \u001b[0;36m<module>\u001b[0;34m()\u001b[0m\n\u001b[1;32m      1\u001b[0m \u001b[0;32mimport\u001b[0m \u001b[0mcsv\u001b[0m\u001b[0;34m\u001b[0m\u001b[0m\n\u001b[1;32m      2\u001b[0m \u001b[0;32mfrom\u001b[0m \u001b[0mshapely\u001b[0m\u001b[0;34m.\u001b[0m\u001b[0mgeometry\u001b[0m \u001b[0;32mimport\u001b[0m \u001b[0mPoint\u001b[0m\u001b[0;34m,\u001b[0m \u001b[0mmapping\u001b[0m\u001b[0;34m\u001b[0m\u001b[0m\n\u001b[0;32m----> 3\u001b[0;31m \u001b[0;32mfrom\u001b[0m \u001b[0mfiona\u001b[0m \u001b[0;32mimport\u001b[0m \u001b[0mcollection\u001b[0m\u001b[0;34m\u001b[0m\u001b[0m\n\u001b[0m\u001b[1;32m      4\u001b[0m \u001b[0;32mfrom\u001b[0m \u001b[0mfiona\u001b[0m\u001b[0;34m.\u001b[0m\u001b[0mcrs\u001b[0m \u001b[0;32mimport\u001b[0m \u001b[0mfrom_epsg\u001b[0m\u001b[0;34m\u001b[0m\u001b[0m\n\u001b[1;32m      5\u001b[0m \u001b[0;34m\u001b[0m\u001b[0m\n",
      "\u001b[0;32mC:\\Users\\User\\Miniconda2\\lib\\site-packages\\fiona\\__init__.py\u001b[0m in \u001b[0;36m<module>\u001b[0;34m()\u001b[0m\n\u001b[1;32m     73\u001b[0m \u001b[0;32mfrom\u001b[0m \u001b[0msix\u001b[0m \u001b[0;32mimport\u001b[0m \u001b[0mstring_types\u001b[0m\u001b[0;34m\u001b[0m\u001b[0m\n\u001b[1;32m     74\u001b[0m \u001b[0;34m\u001b[0m\u001b[0m\n\u001b[0;32m---> 75\u001b[0;31m \u001b[0;32mfrom\u001b[0m \u001b[0mfiona\u001b[0m\u001b[0;34m.\u001b[0m\u001b[0mcollection\u001b[0m \u001b[0;32mimport\u001b[0m \u001b[0mCollection\u001b[0m\u001b[0;34m,\u001b[0m \u001b[0mBytesCollection\u001b[0m\u001b[0;34m,\u001b[0m \u001b[0mvsi_path\u001b[0m\u001b[0;34m\u001b[0m\u001b[0m\n\u001b[0m\u001b[1;32m     76\u001b[0m \u001b[0;32mfrom\u001b[0m \u001b[0mfiona\u001b[0m\u001b[0;34m.\u001b[0m\u001b[0m_drivers\u001b[0m \u001b[0;32mimport\u001b[0m \u001b[0mdriver_count\u001b[0m\u001b[0;34m,\u001b[0m \u001b[0mGDALEnv\u001b[0m\u001b[0;34m,\u001b[0m \u001b[0msupported_drivers\u001b[0m\u001b[0;34m\u001b[0m\u001b[0m\n\u001b[1;32m     77\u001b[0m \u001b[0;32mfrom\u001b[0m \u001b[0mfiona\u001b[0m\u001b[0;34m.\u001b[0m\u001b[0modict\u001b[0m \u001b[0;32mimport\u001b[0m \u001b[0mOrderedDict\u001b[0m\u001b[0;34m\u001b[0m\u001b[0m\n",
      "\u001b[0;32mC:\\Users\\User\\Miniconda2\\lib\\site-packages\\fiona\\collection.py\u001b[0m in \u001b[0;36m<module>\u001b[0;34m()\u001b[0m\n\u001b[1;32m      5\u001b[0m \u001b[0;32mimport\u001b[0m \u001b[0msys\u001b[0m\u001b[0;34m\u001b[0m\u001b[0m\n\u001b[1;32m      6\u001b[0m \u001b[0;34m\u001b[0m\u001b[0m\n\u001b[0;32m----> 7\u001b[0;31m \u001b[0;32mfrom\u001b[0m \u001b[0mfiona\u001b[0m\u001b[0;34m.\u001b[0m\u001b[0mogrext\u001b[0m \u001b[0;32mimport\u001b[0m \u001b[0mIterator\u001b[0m\u001b[0;34m,\u001b[0m \u001b[0mItemsIterator\u001b[0m\u001b[0;34m,\u001b[0m \u001b[0mKeysIterator\u001b[0m\u001b[0;34m\u001b[0m\u001b[0m\n\u001b[0m\u001b[1;32m      8\u001b[0m \u001b[0;32mfrom\u001b[0m \u001b[0mfiona\u001b[0m\u001b[0;34m.\u001b[0m\u001b[0mogrext\u001b[0m \u001b[0;32mimport\u001b[0m \u001b[0mSession\u001b[0m\u001b[0;34m,\u001b[0m \u001b[0mWritingSession\u001b[0m\u001b[0;34m\u001b[0m\u001b[0m\n\u001b[1;32m      9\u001b[0m from fiona.ogrext import (\n",
      "\u001b[0;31mImportError\u001b[0m: DLL load failed: The specified procedure could not be found."
     ]
    }
   ],
   "source": [
    "import csv\n",
    "from shapely.geometry import Point, mapping\n",
    "from fiona import collection\n",
    "from fiona.crs import from_epsg\n",
    "\n",
    "# We are now defining the structure of the shapefile - remember that we can create either a point, line, polygon for the shapefile.\n",
    "schema = { 'geometry': 'Point', 'properties': { 'place': 'str' } }\n",
    "crs = from_epsg(4326) # specify the coordinate reference system - this will generate the .prj for the shapefile\n",
    "\n",
    "with collection(\n",
    "    \"output/top10sites.shp\", \"w\", \"ESRI Shapefile\", schema, crs) as output:\n",
    "    with open('data/top10sites.csv', 'rb') as f:\n",
    "        reader = csv.DictReader(f)\n",
    "        for row in reader:\n",
    "            # Once we have finished converting each latitude and longitude into actual geometries we can now convert them into actual shapefiles.\n",
    "            point = Point(float(row['Longitude']), float(row['Latitude']))\n",
    "            # we are now writing the shapefile\n",
    "            output.write({\n",
    "                'properties': {\n",
    "                    'place': row['Place']\n",
    "                },\n",
    "                'geometry': mapping(point)\n",
    "            })"
   ]
  },
  {
   "cell_type": "markdown",
   "metadata": {},
   "source": [
    "### Situation 2: Reading SHP Files\n",
    "Most GIS vector data are written with Esri's shapefiles(SHP). Shapefiles is a group of files which contain the projection, attributes and geometry of the object they represent. In this scenario, we will try to read the shapefile that we have produced from the previous situation. We both of the libraries that we have used in the previous example. "
   ]
  },
  {
   "cell_type": "code",
   "execution_count": null,
   "metadata": {
    "collapsed": false
   },
   "outputs": [],
   "source": [
    "from fiona import collection\n",
    "from shapely.geometry import Point, shape\n",
    "with collection(\"output/top10sites.shp\", \"r\") as input:\n",
    "    for point in input:\n",
    "        # print(point) # this displays a geojson file\n",
    "        print shape(point['geometry'])"
   ]
  },
  {
   "cell_type": "markdown",
   "metadata": {},
   "source": [
    "You will notice that the output of the script is the same as the result in situation 1 when converting the latitude and longitude into point geometries.\n",
    "\n",
    "### Challenge 1: (Center of the View)\n",
    "Every shapefile can be encapsulated by a bounding box. Your job is to determine the center of the shapefile using its bounding box. We will need this in the next section. \n",
    "\n",
    "**Hint** How do we determine the center of a square?"
   ]
  },
  {
   "cell_type": "code",
   "execution_count": null,
   "metadata": {
    "collapsed": false
   },
   "outputs": [],
   "source": [
    "# Get the center of the bounding box of the shapefile and store it variable center\n",
    "lng = []\n",
    "lat = []\n",
    "with collection(\"output/top10sites.shp\", \"r\") as input:\n",
    "    # print(len(input)) # this prints the number of features\n",
    "    for point in input:\n",
    "        lng.append(point['geometry']['coordinates'][0])\n",
    "        lat.append(point['geometry']['coordinates'][1])\n",
    "\n",
    "centerlng = (max(lng) + min(lng)) * 0.5\n",
    "centerlat = (max(lat) + min(lat)) * 0.5\n",
    "\n",
    "center = [centerlat, centerlng]\n",
    "print(center)"
   ]
  },
  {
   "cell_type": "markdown",
   "metadata": {},
   "source": [
    "### Situation 3: Visualizing Vector Data\n",
    "There are many visualization libraries in Python like Matplotlib, Bokeh, Seaborn, etc. In this example, we will use folium which helps us in visualizing geospatial data. Folium uses leaflet js as its mapping platform so it simplifies our visualization workflow.\n",
    "\n",
    "**Creating a Basemap**"
   ]
  },
  {
   "cell_type": "code",
   "execution_count": null,
   "metadata": {
    "collapsed": false,
    "scrolled": false
   },
   "outputs": [],
   "source": [
    "import folium\n",
    "map_osm = folium.Map(location=center, zoom_start=5) # adding a basemap\n",
    "map_osm\n"
   ]
  },
  {
   "cell_type": "markdown",
   "metadata": {},
   "source": [
    "**Add the vector on the map** <br />\n",
    "Folium uses leaflet a javascript library to visualize geospatial data over a webmap. Folium can create objects over a webmap using its default method which is ```folium.GeoJson(geojson, name=\"name_or_title\").add_to(map_object)```"
   ]
  },
  {
   "cell_type": "code",
   "execution_count": null,
   "metadata": {
    "collapsed": false,
    "scrolled": true
   },
   "outputs": [],
   "source": [
    "from fiona import collection\n",
    "from shapely.geometry import Point, shape\n",
    "with collection(\"output/top10sites.shp\", \"r\") as input:\n",
    "    for point in input:\n",
    "        folium.GeoJson(point,\n",
    "               name='geojson'\n",
    "              ).add_to(map_osm)\n",
    "map_osm"
   ]
  },
  {
   "cell_type": "markdown",
   "metadata": {},
   "source": [
    "### Situation 4: Vector Processing - Buffer\n",
    "Shapely contains some simple vector processing functions like buffer and union. In this scenario, we will create a buffer around the 10 individual points we have converted to a shapefile. Shapely will produce an external shapefile as output."
   ]
  },
  {
   "cell_type": "code",
   "execution_count": 17,
   "metadata": {
    "collapsed": false
   },
   "outputs": [
    {
     "ename": "ImportError",
     "evalue": "DLL load failed: The specified procedure could not be found.",
     "output_type": "error",
     "traceback": [
      "\u001b[0;31m---------------------------------------------------------------------------\u001b[0m",
      "\u001b[0;31mImportError\u001b[0m                               Traceback (most recent call last)",
      "\u001b[0;32m<ipython-input-17-83366174de0a>\u001b[0m in \u001b[0;36m<module>\u001b[0;34m()\u001b[0m\n\u001b[1;32m      1\u001b[0m \u001b[0;32mfrom\u001b[0m \u001b[0mshapely\u001b[0m\u001b[0;34m.\u001b[0m\u001b[0mgeometry\u001b[0m \u001b[0;32mimport\u001b[0m \u001b[0mmapping\u001b[0m\u001b[0;34m,\u001b[0m \u001b[0mshape\u001b[0m\u001b[0;34m\u001b[0m\u001b[0m\n\u001b[0;32m----> 2\u001b[0;31m \u001b[0;32mfrom\u001b[0m \u001b[0mfiona\u001b[0m \u001b[0;32mimport\u001b[0m \u001b[0mcollection\u001b[0m\u001b[0;34m\u001b[0m\u001b[0m\n\u001b[0m\u001b[1;32m      3\u001b[0m \u001b[0;34m\u001b[0m\u001b[0m\n\u001b[1;32m      4\u001b[0m \u001b[0;32mwith\u001b[0m \u001b[0mcollection\u001b[0m\u001b[0;34m(\u001b[0m\u001b[0;34m\"output/top10sites.shp\"\u001b[0m\u001b[0;34m,\u001b[0m \u001b[0;34m\"r\"\u001b[0m\u001b[0;34m)\u001b[0m \u001b[0;32mas\u001b[0m \u001b[0minput\u001b[0m\u001b[0;34m:\u001b[0m\u001b[0;34m\u001b[0m\u001b[0m\n\u001b[1;32m      5\u001b[0m     \u001b[0mschema\u001b[0m \u001b[0;34m=\u001b[0m \u001b[0;34m{\u001b[0m \u001b[0;34m'geometry'\u001b[0m\u001b[0;34m:\u001b[0m \u001b[0;34m'Polygon'\u001b[0m\u001b[0;34m,\u001b[0m \u001b[0;34m'properties'\u001b[0m\u001b[0;34m:\u001b[0m \u001b[0;34m{\u001b[0m \u001b[0;34m'name'\u001b[0m\u001b[0;34m:\u001b[0m \u001b[0;34m'str'\u001b[0m \u001b[0;34m}\u001b[0m \u001b[0;34m}\u001b[0m \u001b[0;31m# build the schema of the output buffer shape\u001b[0m\u001b[0;34m\u001b[0m\u001b[0m\n",
      "\u001b[0;32mC:\\Users\\User\\Miniconda2\\lib\\site-packages\\fiona\\__init__.py\u001b[0m in \u001b[0;36m<module>\u001b[0;34m()\u001b[0m\n\u001b[1;32m     73\u001b[0m \u001b[0;32mfrom\u001b[0m \u001b[0msix\u001b[0m \u001b[0;32mimport\u001b[0m \u001b[0mstring_types\u001b[0m\u001b[0;34m\u001b[0m\u001b[0m\n\u001b[1;32m     74\u001b[0m \u001b[0;34m\u001b[0m\u001b[0m\n\u001b[0;32m---> 75\u001b[0;31m \u001b[0;32mfrom\u001b[0m \u001b[0mfiona\u001b[0m\u001b[0;34m.\u001b[0m\u001b[0mcollection\u001b[0m \u001b[0;32mimport\u001b[0m \u001b[0mCollection\u001b[0m\u001b[0;34m,\u001b[0m \u001b[0mBytesCollection\u001b[0m\u001b[0;34m,\u001b[0m \u001b[0mvsi_path\u001b[0m\u001b[0;34m\u001b[0m\u001b[0m\n\u001b[0m\u001b[1;32m     76\u001b[0m \u001b[0;32mfrom\u001b[0m \u001b[0mfiona\u001b[0m\u001b[0;34m.\u001b[0m\u001b[0m_drivers\u001b[0m \u001b[0;32mimport\u001b[0m \u001b[0mdriver_count\u001b[0m\u001b[0;34m,\u001b[0m \u001b[0mGDALEnv\u001b[0m\u001b[0;34m,\u001b[0m \u001b[0msupported_drivers\u001b[0m\u001b[0;34m\u001b[0m\u001b[0m\n\u001b[1;32m     77\u001b[0m \u001b[0;32mfrom\u001b[0m \u001b[0mfiona\u001b[0m\u001b[0;34m.\u001b[0m\u001b[0modict\u001b[0m \u001b[0;32mimport\u001b[0m \u001b[0mOrderedDict\u001b[0m\u001b[0;34m\u001b[0m\u001b[0m\n",
      "\u001b[0;32mC:\\Users\\User\\Miniconda2\\lib\\site-packages\\fiona\\collection.py\u001b[0m in \u001b[0;36m<module>\u001b[0;34m()\u001b[0m\n\u001b[1;32m      5\u001b[0m \u001b[0;32mimport\u001b[0m \u001b[0msys\u001b[0m\u001b[0;34m\u001b[0m\u001b[0m\n\u001b[1;32m      6\u001b[0m \u001b[0;34m\u001b[0m\u001b[0m\n\u001b[0;32m----> 7\u001b[0;31m \u001b[0;32mfrom\u001b[0m \u001b[0mfiona\u001b[0m\u001b[0;34m.\u001b[0m\u001b[0mogrext\u001b[0m \u001b[0;32mimport\u001b[0m \u001b[0mIterator\u001b[0m\u001b[0;34m,\u001b[0m \u001b[0mItemsIterator\u001b[0m\u001b[0;34m,\u001b[0m \u001b[0mKeysIterator\u001b[0m\u001b[0;34m\u001b[0m\u001b[0m\n\u001b[0m\u001b[1;32m      8\u001b[0m \u001b[0;32mfrom\u001b[0m \u001b[0mfiona\u001b[0m\u001b[0;34m.\u001b[0m\u001b[0mogrext\u001b[0m \u001b[0;32mimport\u001b[0m \u001b[0mSession\u001b[0m\u001b[0;34m,\u001b[0m \u001b[0mWritingSession\u001b[0m\u001b[0;34m\u001b[0m\u001b[0m\n\u001b[1;32m      9\u001b[0m from fiona.ogrext import (\n",
      "\u001b[0;31mImportError\u001b[0m: DLL load failed: The specified procedure could not be found."
     ]
    }
   ],
   "source": [
    "from shapely.geometry import mapping, shape\n",
    "from fiona import collection\n",
    "\n",
    "with collection(\"output/top10sites.shp\", \"r\") as input:\n",
    "    schema = { 'geometry': 'Polygon', 'properties': { 'name': 'str' } } # build the schema of the output buffer shape\n",
    "    with collection(\n",
    "        \"output/top10sites_buffer.shp\", \"w\", \"ESRI Shapefile\", schema) as output:\n",
    "        for point in input:\n",
    "            output.write({\n",
    "                'properties': {\n",
    "                    'name': point['properties']['place']\n",
    "                },\n",
    "                # Executing a buffer around our 10 points.\n",
    "                'geometry': mapping(shape(point['geometry']).buffer(0.5))\n",
    "            })"
   ]
  },
  {
   "cell_type": "markdown",
   "metadata": {},
   "source": [
    "### Challenge 2: Display the buffer output on a map\n",
    "In this scenario, we will overlay the buffer output on a webmap."
   ]
  },
  {
   "cell_type": "code",
   "execution_count": null,
   "metadata": {
    "collapsed": false
   },
   "outputs": [],
   "source": [
    "# Display the buffer output shp on a leaflet map\n",
    "from fiona import collection\n",
    "from shapely.geometry import Point, shape\n",
    "with collection(\"output/top10sites_buffer.shp\", \"r\") as input:\n",
    "    for point_buffer in input:\n",
    "        folium.GeoJson(point_buffer,\n",
    "               name='geojson'\n",
    "              ).add_to(map_osm)\n",
    "map_osm"
   ]
  },
  {
   "cell_type": "markdown",
   "metadata": {
    "collapsed": true
   },
   "source": [
    "### Raster x  Python\n",
    "Rasters are images. Raster data is composed of pixels containing values. Each pixel contains a coordinate and a projection and other image parameters. Python has a wide variety of image processing libraries and algorithms but they lack geospatial capability. To add the geospatial capability to our image processing workflows we will need to use GDAL and/or rasterio. GDAL allows us to read and write raster images with geospatial capability. Rasterio act as an interface to GDAL. Rasterio is being developed and maintained by mapbox.\n",
    "\n",
    "### Common Raster Formats\n",
    "  - TIFF\n",
    "  - JPEG\n",
    "  - PNG\n",
    "  - Any Other Image Format with Geospatial Parameters\n",
    "\n",
    "### Situation 5: Reading Raster Images\n",
    "To read raster files, we will be using rasterio. We can consider images as one matrix where will process each pixel/kernel as one matrix element. To manipulate matrices in Python we will use Numpy, a matrix manipulation library. Numpy is optimized to handle large matrices. In this scenario, we will read a raster file then access an element of the image matrix using numpy. In the following example we will read a bathymetry interpolated data of the Philippines. \n",
    "\n",
    "Parameters and attributes of the raster image can be accessed by the following commands:\n",
    "  - width\n",
    "  - height\n",
    "  - crs\n",
    "  - affine\n",
    "  - count\n",
    "  - indexes"
   ]
  },
  {
   "cell_type": "code",
   "execution_count": null,
   "metadata": {
    "collapsed": false
   },
   "outputs": [],
   "source": [
    "import numpy # numpy is used for manipulating matrices\n",
    "import rasterio # rasterio is used to read and write raster images\n",
    "\n",
    "# Register format drivers from GDAL like tiff images\n",
    "with rasterio.drivers():\n",
    "    with rasterio.open('data/bathymetry.tif') as src:\n",
    "        bathymetry = src.read() # rasterio automatically reads the whole image as an multi-dimensional array\n",
    "        # print(type(bathymetry))\n",
    "        # print(src.width)"
   ]
  },
  {
   "cell_type": "markdown",
   "metadata": {},
   "source": [
    "Rasterio automatically represents the image as an array. We can now implement matrix operations on to our image. The matrix generated by rasterio is represented by ```[z][y][x]``` or ```[band_number][row][col]``` You can access a specific element of the matrix using matrix_name[band_number][row][col]<br />\n",
    "\n",
    "**Note** The nth element of a list is always n-1."
   ]
  },
  {
   "cell_type": "code",
   "execution_count": null,
   "metadata": {
    "collapsed": false
   },
   "outputs": [],
   "source": [
    "bathymetry.shape # this displays the size of the image\n"
   ]
  },
  {
   "cell_type": "markdown",
   "metadata": {
    "collapsed": true
   },
   "source": [
    "**Numpy Functions** <br />\n",
    "Numpy also has some built-in functions which you can use. Some functions include:\n",
    " - numpy.max\n",
    " - numpy.min\n",
    " - numpy.add\n",
    " - numpy.sum\n",
    " - numpy.median\n",
    " - numpy.where\n",
    " - and many more!\n",
    "\n",
    "These functions are faster than the built-in python operations(max, sum, etc)."
   ]
  },
  {
   "cell_type": "code",
   "execution_count": null,
   "metadata": {
    "collapsed": false
   },
   "outputs": [],
   "source": [
    "numpy.median(bathymetry) # no need for loops!"
   ]
  },
  {
   "cell_type": "markdown",
   "metadata": {},
   "source": [
    "### Situation 6: Visualizing Raster Data\n",
    "There are many visualization tools in Python like Bokeh, Seaborn and Matplotlib. These different libraries are used to build In this example, we will be using the matplotlib to visualize our bathymetric data."
   ]
  },
  {
   "cell_type": "code",
   "execution_count": null,
   "metadata": {
    "collapsed": false
   },
   "outputs": [],
   "source": [
    "%matplotlib inline\n",
    "import matplotlib.pyplot as plt\n",
    "plt.imshow(bathymetry[0])"
   ]
  },
  {
   "cell_type": "markdown",
   "metadata": {},
   "source": [
    "Matplotlib contains a module just for setting up the color styles of the image. You can change the style by adding another parameter \"cmap\" to our ```plt.imshow()``` example. For a full list of colormap for matplotlib refer to this [link](http://matplotlib.org/examples/color/colormaps_reference.html) "
   ]
  },
  {
   "cell_type": "code",
   "execution_count": null,
   "metadata": {
    "collapsed": false
   },
   "outputs": [],
   "source": [
    "plt.imshow(bathymetry[0], cmap=\"BrBG\")"
   ]
  },
  {
   "cell_type": "markdown",
   "metadata": {},
   "source": [
    "### Situation 7: Raster Processing\n",
    "There are numerous examples of raster processing like image and/or pixel classification, image transformation and rectification, extraction, etc. In this example, we will be extracting areas(pixels) deeper than 2000m. We will be using the built-in functions of numpy to extract these pixels. Take note that numpy functions are more performant than inspecting each element of the matrix using Python's for-loop."
   ]
  },
  {
   "cell_type": "code",
   "execution_count": null,
   "metadata": {
    "collapsed": false
   },
   "outputs": [],
   "source": [
    "extracted = numpy.less(bathymetry[0], -2000)\n",
    "plt.imshow(extracted, cmap=\"autumn\")"
   ]
  },
  {
   "cell_type": "markdown",
   "metadata": {},
   "source": [
    "Natively, Python is slow therefore computationally and data intensive tasks like raster processing can be a challenge. But with Python's nature of being open sourced, there are many libraries like PySpark, Numba which can help speed up and improve your processing.    "
   ]
  },
  {
   "cell_type": "markdown",
   "metadata": {
    "collapsed": true
   },
   "source": [
    "## Other Libraries\n",
    "\n",
    "There are many libraries not mentioned in this tutorial which deals with scientific computing. It should also be noted that the PyPI list has at least 79090 packages and continuing.\n",
    "\n",
    "## Final Notes\n",
    "\n",
    "We have barely scratched the surface of what the Python programming can do in terms of dealing and processing geospatial data. So the ball is now in your hands to be at least proficient in the language. Like any language, you must invest your time and effort in learning the language itself. If you have time, explore the other domains like machine learning, web development, automation, cloud computing and others. \n",
    "\n",
    "\n",
    "If you have questions: <br />\n",
    "\n",
    "email: ian.panganiban@gmail.com<br />\n",
    "twitter: @lkpanganiban<br />\n",
    "github: lkpanganiban<br />"
   ]
  }
 ],
 "metadata": {
  "kernelspec": {
   "display_name": "Python 2",
   "language": "python",
   "name": "python2"
  },
  "language_info": {
   "codemirror_mode": {
    "name": "ipython",
    "version": 2
   },
   "file_extension": ".py",
   "mimetype": "text/x-python",
   "name": "python",
   "nbconvert_exporter": "python",
   "pygments_lexer": "ipython2",
   "version": "2.7.12"
  }
 },
 "nbformat": 4,
 "nbformat_minor": 0
}
