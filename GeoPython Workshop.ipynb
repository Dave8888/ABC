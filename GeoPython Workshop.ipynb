{
 "cells": [
  {
   "cell_type": "markdown",
   "metadata": {},
   "source": [
    "# GeoPython Workshop 2016\n",
    "Welcome to the GeoPython Workshop!\n",
    "\n",
    "The GeoPython workshop aims to introduce Python programming as a means of manipulating geospatial data. The workshop will include exercises and problems where you will analyze and manipulate geospatial data. This workshop is for beginners to the Python programming language and geospatial data.\n",
    "\n",
    "\n",
    "## Requirements\n",
    " - Laptop\n",
    " - Python 2 or 3\n",
    " - Jupyter Notebook\n",
    " - Fiona\n",
    " - Shapely\n",
    " - Gdal\n",
    " - Rasterio\n",
    " - Folium\n",
    "\n",
    "\n",
    "## Agenda\n",
    " - Python 101\n",
    "   - Backgrounder\n",
    "   - Simple Maths and Prints\n",
    "   - Lists\n",
    "   - Loops \n",
    "   - If-Elif-Else\n",
    " - Python for Geospatial Applications\n",
    "   - Geospatial Data Types\n",
    "   - Vector x Python\n",
    "   - Raster x Python\n",
    "\n",
    "## Python Backgrounder\n",
    "*Python is a widely used high-level, general-purpose, interpreted, dynamic programming language. Its design philosophy emphasizes code readability, and its syntax allows programmers to express concepts in fewer lines of code than would be possible in languages such as C++ or Java.* - [Wikipedia](https://en.wikipedia.org/wiki/Python_%28programming_language%29)\n",
    "\n",
    "Python is authored by Guido Van Rossum a Dutch programmer. He is known as the Benevolent Dictator for Life. He was employed at Google for 7 years and currently works at Dropbox. \n",
    "\n",
    "Python is currently being used in a wide variety of applications and domains. \n",
    " - Data Science and Engineering\n",
    " - Software Engineering\n",
    " - System Management and Orchestration\n",
    " - Robotics\n",
    " - Journalism\n",
    " - Geospatial World\n",
    " - Disaster Risk Management and Mitigation\n",
    " - And many more\n",
    "\n",
    "![Python in the Real World](images/python_world1.jpg)\n",
    "\n",
    "## Why Python?\n",
    "There are many reasons why many programmers and scientists are shifting to Python.\n",
    " - Readability\n",
    " - Development Time\n",
    " - Flexibility\n",
    " - Large Library Support\n",
    " - Community\n",
    " - Compensation\n",
    "\n",
    "### Printing a text or result\n",
    "In any programming language, printing your results is the bread and butter of your development and debugging. You can determine if your program is working properly just by a simple command. In printing a text, execute the following commands:"
   ]
  },
  {
   "cell_type": "code",
   "execution_count": 21,
   "metadata": {
    "collapsed": false
   },
   "outputs": [
    {
     "name": "stdout",
     "output_type": "stream",
     "text": [
      "FOSS4G waters!\n"
     ]
    }
   ],
   "source": [
    "print(\"FOSS4G waters!\")"
   ]
  },
  {
   "cell_type": "code",
   "execution_count": 22,
   "metadata": {
    "collapsed": false
   },
   "outputs": [
    {
     "name": "stdout",
     "output_type": "stream",
     "text": [
      "\n",
      "This is a multiline text.\n",
      "Python is awesome!        \n",
      "\n"
     ]
    }
   ],
   "source": [
    "print(\"\"\"\n",
    "This is a multiline text.\n",
    "Python is awesome!        \n",
    "\"\"\")"
   ]
  },
  {
   "cell_type": "markdown",
   "metadata": {},
   "source": [
    "### Variable Declaration and Simple Maths\n",
    "Python like any programming language can work with variables and use these variables for your computations. Unlike the other languages like c or java, Python can dynamically determine the variable type."
   ]
  },
  {
   "cell_type": "code",
   "execution_count": 23,
   "metadata": {
    "collapsed": false
   },
   "outputs": [
    {
     "name": "stdout",
     "output_type": "stream",
     "text": [
      "125.0\n"
     ]
    }
   ],
   "source": [
    "a = 25 # this is an integer\n",
    "b = 5.0 # this is a float\n",
    "c = \"Hello FOSS!\" # this is a string\n",
    "d = a * b\n",
    "print(a * b) # this is also the same as print(d)\n"
   ]
  },
  {
   "cell_type": "code",
   "execution_count": 24,
   "metadata": {
    "collapsed": false
   },
   "outputs": [
    {
     "name": "stdout",
     "output_type": "stream",
     "text": [
      "Hello FOSS!\n"
     ]
    }
   ],
   "source": [
    "print(c) # printing a variable with a value of a string"
   ]
  },
  {
   "cell_type": "markdown",
   "metadata": {},
   "source": [
    "### Python Lists\n",
    "We have a special data type in python what we call lists. Lists are your in memory \"databases\" which you can store information and access them later in your program."
   ]
  },
  {
   "cell_type": "code",
   "execution_count": 25,
   "metadata": {
    "collapsed": false
   },
   "outputs": [
    {
     "name": "stdout",
     "output_type": "stream",
     "text": [
      "[1, 2, 100, 4, 10, 23]\n",
      "10\n"
     ]
    }
   ],
   "source": [
    "e = [1,2,3,4,10,23] # this is a list of integers.\n",
    "f = [\"this\", \"is\", \"list\",  \"of\", \"strings\"]\n",
    "g = [\"a list\", \"of\", 2.6] # this is a list of mixed types.\n",
    "h = \"This is also a list\"\n",
    "i = e[-2]\n",
    "\n",
    "e[2] = 100 # set the element of a list using its index.\n",
    "\n",
    "print(e) # displaying the whole list.\n",
    "print(i) # display the 2nd to the last of a given list.\n",
    "# e.append(7000) # this adds an element to the last index of the list e\n",
    "# print(e)"
   ]
  },
  {
   "cell_type": "markdown",
   "metadata": {},
   "source": [
    "### List Operations\n",
    "Python has some built-in functions for handling lists like max, min, len, sorted."
   ]
  },
  {
   "cell_type": "code",
   "execution_count": 26,
   "metadata": {
    "collapsed": false
   },
   "outputs": [
    {
     "name": "stdout",
     "output_type": "stream",
     "text": [
      "6\n"
     ]
    }
   ],
   "source": [
    "print(len(e)) # displays the number of elements"
   ]
  },
  {
   "cell_type": "markdown",
   "metadata": {},
   "source": [
    "### Python Loops\n",
    "Like any programming language, Python can also implement loops. We have the following loops - for, while, and do-while. Take note that loops in Python are very slow due to its dynamically typed feature. For large or long mathematical loops it is recommended that you use some other Python libraries like Numpy or SciPy. "
   ]
  },
  {
   "cell_type": "code",
   "execution_count": 27,
   "metadata": {
    "collapsed": false
   },
   "outputs": [
    {
     "name": "stdout",
     "output_type": "stream",
     "text": [
      "this\n",
      "is\n",
      "list\n",
      "of\n",
      "strings\n"
     ]
    }
   ],
   "source": [
    "for x in f:\n",
    "    print(x)"
   ]
  },
  {
   "cell_type": "code",
   "execution_count": 28,
   "metadata": {
    "collapsed": false
   },
   "outputs": [
    {
     "name": "stdout",
     "output_type": "stream",
     "text": [
      "0\n",
      "1\n",
      "2\n",
      "3\n",
      "4\n",
      "5\n",
      "6\n",
      "7\n",
      "8\n",
      "9\n"
     ]
    }
   ],
   "source": [
    "for x in xrange(10): # xrange is deprecated in python 3. just use range instead of xrange\n",
    "    print(x)"
   ]
  },
  {
   "cell_type": "markdown",
   "metadata": {},
   "source": [
    "### Controlling the Loops: If-ElIf-Else and Conditional Statements\n",
    "Python like any programming language, allows you to have conditional statements where you will apply certain criteria that you want to achieve. Let's say you want to determine the numbers greater than 3 in the following list.  "
   ]
  },
  {
   "cell_type": "code",
   "execution_count": 29,
   "metadata": {
    "collapsed": false
   },
   "outputs": [
    {
     "name": "stdout",
     "output_type": "stream",
     "text": [
      "bazzingga!\n",
      "5\n",
      "3.1\n",
      "bazzingga!\n",
      "bazzingga!\n",
      "test\n"
     ]
    }
   ],
   "source": [
    "k = [2, 5, 3.1, 0, -2, \"test\"]\n",
    "for j in k:\n",
    "    if(j > 2.5):\n",
    "        print(j)\n",
    "    #elif(j == 0):\n",
    "    #    break\n",
    "    else:\n",
    "        print(\"bazzingga!\")"
   ]
  },
  {
   "cell_type": "markdown",
   "metadata": {},
   "source": [
    "As you can see, string data types are treated greater than numerical data types like integers and floats."
   ]
  },
  {
   "cell_type": "markdown",
   "metadata": {},
   "source": [
    "## Python for Geospatial Applications\n",
    "Currently the Python programming language is being used as a scripting language to automate different tasks for different GIS platforms like QGIS, Grass GIS and ArcGIS. Python is also used to create Web-based Geographic Information Systems (WebGIS) which is now becoming more popular since most people are now hooked up into their phones and computers. So why use Python instead of using a desktop GIS system? We want to use Python as a means of manipulating geospatial data because we want to have a workflow independent from any GIS software/vendor. \n",
    "\n",
    "\n",
    "### Handling Geospatial Data\n",
    "We have two main kinds of data the raster and vector. Vector datasets are represented as points, lines, and polygons. Most vector data are useful for storing data that has discrete boundaries such land parcels, roads, buildings, points of interest and many others. Raster datasets are generally represented by rectangular grid of pixels. Raster data is focused on modelling continuous phenomena and images of the earth. Generally raster data are your satellite images, digital elevation models, dsm, and others.\n",
    "\n",
    "![Raster vs Vector](images/raster_vector.gif)\n",
    "\n",
    "### Vector x Python\n",
    "Python has several libraries in manipulating and analyzing vector data. Famous libraries include OGR, shapely and fiona. Some of the vector file extensions or formats are as follows:\n",
    " - shp (ESRI Shapefile)\n",
    " - kmz and kml (Keyhole Markup Language)\n",
    " - csv (Comma Separated Values)\n",
    " - geojson (geospatial javascript object notation)\n",
    " - dxf\n",
    " - xyz\n",
    "\n",
    "### Situation 1: Common Data into Geospatial Data (CSV to SHP)\n",
    "Most geospatial data are from spreadsheets, text files or even pdfs - so we have to convert them to make sense out of these data. \n",
    "\n",
    "In this example we will be turning comma separated values (CSV) into geospatial data. Suppose we have a CSV file containing attributes like name, description, latitude, longitude etc, we want to turn this csv into a shapefile so we can load this into QGIS. The code tutorial came from Tom Macwright which can be viewed [here.](http://www.macwright.org/2012/10/31/gis-with-python-shapely-fiona.html)"
   ]
  },
  {
   "cell_type": "code",
   "execution_count": 30,
   "metadata": {
    "collapsed": false
   },
   "outputs": [
    {
     "name": "stdout",
     "output_type": "stream",
     "text": [
      "{'Max Value': '1327512.36221', 'Latitude': '19.392', 'Place': 'Katanapan Point-Cagayan Valley', 'id': '1', 'Longitude': '121.156'}\n",
      "{'Max Value': '1262860.15324', 'Latitude': '19.4', 'Place': 'Katanapan Point-Cagayan Valley', 'id': '2', 'Longitude': '121.156'}\n",
      "{'Max Value': '1253266.53637', 'Latitude': '19.352', 'Place': 'Cabudadan-Cagayan Valley', 'id': '3', 'Longitude': '121.444'}\n",
      "{'Max Value': '1244616.1615', 'Latitude': '18.936', 'Place': 'Cape Bojeador-Ilocos', 'id': '4', 'Longitude': '119.996'}\n",
      "{'Max Value': '1223701.93723', 'Latitude': '18.936', 'Place': 'Cape Bojeador-Ilocos', 'id': '5', 'Longitude': '119.988'}\n",
      "{'Max Value': '1197975.16676', 'Latitude': '19.408', 'Place': 'Katanapan Point-Cagayan Valley', 'id': '6', 'Longitude': '121.148'}\n",
      "{'Max Value': '1186722.44419', 'Latitude': '19.344', 'Place': 'Cabudadan-Cagayan Valley', 'id': '7', 'Longitude': '121.444'}\n",
      "{'Max Value': '1179809.84815', 'Latitude': '19.4', 'Place': 'Katanapan Point-Cagayan Valley', 'id': '8', 'Longitude': '121.148'}\n",
      "{'Max Value': '1148528.01435', 'Latitude': '19.384', 'Place': 'Katanapan Point-Cagayan Valley', 'id': '9', 'Longitude': '121.18'}\n",
      "{'Max Value': '1127088.12284', 'Latitude': '18.944', 'Place': 'cannot be geocoded', 'id': '10', 'Longitude': '119.964'}\n"
     ]
    }
   ],
   "source": [
    "import csv # let's use an external library to read csv files\n",
    "with open('data/top10sites.csv', 'rb') as csvfile:\n",
    "    reader = csv.DictReader(csvfile) # this converts each row into a python dictionary - it is almost the same as lists but instead of numerical indeces you have keys to access data.\n",
    "    for row in reader:\n",
    "        print(row)\n",
    "        #print(row[\"Place\"]) # you can access data using a certain key"
   ]
  },
  {
   "cell_type": "code",
   "execution_count": 31,
   "metadata": {
    "collapsed": false
   },
   "outputs": [
    {
     "name": "stdout",
     "output_type": "stream",
     "text": [
      "POINT (121.156 19.392)\n",
      "POINT (121.156 19.4)\n",
      "POINT (121.444 19.352)\n",
      "POINT (119.996 18.936)\n",
      "POINT (119.988 18.936)\n",
      "POINT (121.148 19.408)\n",
      "POINT (121.444 19.344)\n",
      "POINT (121.148 19.4)\n",
      "POINT (121.18 19.384)\n",
      "POINT (119.964 18.944)\n"
     ]
    }
   ],
   "source": [
    "# Now that we can read a csv. Let us try to convert the latitude and longitude into actual point geometries\n",
    "import csv\n",
    "from shapely.geometry import Point\n",
    "\n",
    "with open('data/top10sites.csv', 'rb') as csvfile:\n",
    "    reader = csv.DictReader(csvfile)\n",
    "    for row in reader:\n",
    "        point = Point(float(row['Longitude']), float(row['Latitude']))\n",
    "        print(point)"
   ]
  },
  {
   "cell_type": "code",
   "execution_count": 32,
   "metadata": {
    "collapsed": false
   },
   "outputs": [],
   "source": [
    "import csv\n",
    "from shapely.geometry import Point, mapping\n",
    "from fiona import collection\n",
    "\n",
    "# We are now defining the structure of the shapefile - remember that we can create either a point, line, polygon for the shapefile.\n",
    "schema = { 'geometry': 'Point', 'properties': { 'place': 'str' } }\n",
    "with collection(\n",
    "    \"output/top10sites.shp\", \"w\", \"ESRI Shapefile\", schema) as output:\n",
    "    with open('data/top10sites.csv', 'rb') as f:\n",
    "        reader = csv.DictReader(f)\n",
    "        for row in reader:\n",
    "            # Once we have finished converting each latitude and longitude into actual geometries we can now convert them into actual shapefiles.\n",
    "            point = Point(float(row['Longitude']), float(row['Latitude']))\n",
    "            # we are now writing the shapefile\n",
    "            output.write({\n",
    "                'properties': {\n",
    "                    'place': row['Place']\n",
    "                },\n",
    "                'geometry': mapping(point)\n",
    "            })"
   ]
  },
  {
   "cell_type": "markdown",
   "metadata": {},
   "source": [
    "### Situation 2: Reading SHP Files\n",
    "Most GIS vector data are written with Esri's shapefiles(SHP). Shapefiles is a group of files which contain the projection, attributes and geometry of the object they represent. In this scenario, we will try to read the shapefile that we have produced from the previous situation. We both of the libraries that we have used in the previous example. "
   ]
  },
  {
   "cell_type": "code",
   "execution_count": 33,
   "metadata": {
    "collapsed": false
   },
   "outputs": [
    {
     "name": "stdout",
     "output_type": "stream",
     "text": [
      "POINT (121.156 19.392)\n",
      "POINT (121.156 19.4)\n",
      "POINT (121.444 19.352)\n",
      "POINT (119.996 18.936)\n",
      "POINT (119.988 18.936)\n",
      "POINT (121.148 19.408)\n",
      "POINT (121.444 19.344)\n",
      "POINT (121.148 19.4)\n",
      "POINT (121.18 19.384)\n",
      "POINT (119.964 18.944)\n"
     ]
    }
   ],
   "source": [
    "from fiona import collection\n",
    "from shapely.geometry import Point, shape\n",
    "with collection(\"output/top10sites.shp\", \"r\") as input:\n",
    "    for point in input:\n",
    "        print shape(point['geometry'])"
   ]
  },
  {
   "cell_type": "markdown",
   "metadata": {},
   "source": [
    "You will notice that the output of the script is the same as the result in situation 1 when converting the latitude and longitude into point geometries.\n",
    "\n",
    "### Challenge 1: (Center of the View)\n",
    "Every shapefile can be encapsulated by a bounding box. Your job is to determine the center of the shapefile using its bounding box. We will need this in the next section. \n",
    "\n",
    "**Hint** How do we determine the center of a square?"
   ]
  },
  {
   "cell_type": "code",
   "execution_count": 34,
   "metadata": {
    "collapsed": false
   },
   "outputs": [
    {
     "name": "stdout",
     "output_type": "stream",
     "text": [
      "[19.172, 120.70400000000001]\n"
     ]
    }
   ],
   "source": [
    "lng = []\n",
    "lat = []\n",
    "with collection(\"output/top10sites.shp\", \"r\") as input:\n",
    "    for point in input:\n",
    "        lng.append(point['geometry']['coordinates'][0])\n",
    "        lat.append(point['geometry']['coordinates'][1])\n",
    "\n",
    "centerlng = (max(lng) + min(lng)) * 0.5\n",
    "centerlat = (max(lat) + min(lat)) * 0.5\n",
    "\n",
    "center = [centerlat, centerlng]\n",
    "print(center)"
   ]
  },
  {
   "cell_type": "markdown",
   "metadata": {},
   "source": [
    "### Situation 3: Visualizing Vector Data\n",
    "There are many visualization libraries in Python like Matplotlib, Bokeh, Seaborn, etc. In this example, we will use folium which helps us in visualizing geospatial data. Folium uses leaflet js as its mapping platform so it simplifies our visualization workflow.\n",
    "\n",
    "**Creating a Basemap**"
   ]
  },
  {
   "cell_type": "code",
   "execution_count": 35,
   "metadata": {
    "collapsed": false,
    "scrolled": false
   },
   "outputs": [
    {
     "data": {
      "text/html": [
       "<div style=\"width:100%;\"><div style=\"position:relative;width:100%;height:0;padding-bottom:60%;\"><iframe src=\"data:text/html;base64,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\" style=\"position:absolute;width:100%;height:100%;left:0;top:0;\"></iframe></div></div>"
      ],
      "text/plain": [
       "<folium.folium.Map at 0x7f5bc8f95b90>"
      ]
     },
     "execution_count": 35,
     "metadata": {},
     "output_type": "execute_result"
    }
   ],
   "source": [
    "import folium\n",
    "map_osm = folium.Map(location=center, zoom_start=5) # adding a basemap\n",
    "map_osm\n"
   ]
  },
  {
   "cell_type": "markdown",
   "metadata": {},
   "source": [
    "**Add the vector on the map**"
   ]
  },
  {
   "cell_type": "code",
   "execution_count": 36,
   "metadata": {
    "collapsed": false,
    "scrolled": true
   },
   "outputs": [
    {
     "data": {
      "text/html": [
       "<div style=\"width:100%;\"><div style=\"position:relative;width:100%;height:0;padding-bottom:60%;\"><iframe src=\"data:text/html;base64,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\" style=\"position:absolute;width:100%;height:100%;left:0;top:0;\"></iframe></div></div>"
      ],
      "text/plain": [
       "<folium.folium.Map at 0x7f5bc8f95b90>"
      ]
     },
     "execution_count": 36,
     "metadata": {},
     "output_type": "execute_result"
    }
   ],
   "source": [
    "from fiona import collection\n",
    "from shapely.geometry import Point, shape\n",
    "with collection(\"output/top10sites.shp\", \"r\") as input:\n",
    "    for point in input:\n",
    "        folium.Marker([point['geometry']['coordinates'][1], point['geometry']['coordinates'][0]], \n",
    "                      popup=point['properties']['place']).add_to(map_osm)\n",
    "map_osm"
   ]
  },
  {
   "cell_type": "markdown",
   "metadata": {},
   "source": [
    "### Situation 4: Vector Processing - Buffer\n",
    "Shapely contains some simple vector processing functions like buffer and union. In this scenario, we will create a buffer around the 10 individual points we have converted to a shapefile. Shapely will produce an external shapefile as output."
   ]
  },
  {
   "cell_type": "code",
   "execution_count": 37,
   "metadata": {
    "collapsed": false
   },
   "outputs": [],
   "source": [
    "from shapely.geometry import mapping, shape\n",
    "from fiona import collection\n",
    "\n",
    "with collection(\"output/top10sites.shp\", \"r\") as input:\n",
    "    schema = { 'geometry': 'Polygon', 'properties': { 'name': 'str' } }\n",
    "    with collection(\n",
    "        \"output/top10sites_buffer.shp\", \"w\", \"ESRI Shapefile\", schema) as output:\n",
    "        for point in input:\n",
    "            output.write({\n",
    "                'properties': {\n",
    "                    'name': point['properties']['place']\n",
    "                },\n",
    "                # Executing a buffer around our 10 points.\n",
    "                'geometry': mapping(shape(point['geometry']).buffer(0.5))\n",
    "            })"
   ]
  },
  {
   "cell_type": "markdown",
   "metadata": {},
   "source": [
    "### Challenge 2: Display the buffer output on a map\n"
   ]
  },
  {
   "cell_type": "code",
   "execution_count": 38,
   "metadata": {
    "collapsed": false
   },
   "outputs": [
    {
     "data": {
      "text/html": [
       "<div style=\"width:100%;\"><div style=\"position:relative;width:100%;height:0;padding-bottom:60%;\"><iframe src=\"data:text/html;base64,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\" style=\"position:absolute;width:100%;height:100%;left:0;top:0;\"></iframe></div></div>"
      ],
      "text/plain": [
       "<folium.folium.Map at 0x7f5bc8f95b90>"
      ]
     },
     "execution_count": 38,
     "metadata": {},
     "output_type": "execute_result"
    }
   ],
   "source": [
    "from shapely.geometry import mapping, shape\n",
    "from fiona import collection\n",
    "\n",
    "with collection(\"output/top10sites_buffer.shp\", \"r\") as input:\n",
    "    for point in input:\n",
    "        folium.GeoJson(point,\n",
    "               name='geojson'\n",
    "              ).add_to(map_osm)\n",
    "map_osm"
   ]
  },
  {
   "cell_type": "markdown",
   "metadata": {
    "collapsed": true
   },
   "source": [
    "### Raster x  Python\n",
    "Raster are images. So raster processing can be thought as image processing. Raster data is composed of pixels containing values. Each pixel also contains a coordinate and projection. Python has a wide variety of image processing libraries and algorithms but they lack geospatial capability. To add the geospatial capability to our image processing workflows we will need to use GDAL and/or rasterio. GDAL allows us to read and write raster images with geospatial capability. Rasterio act as an interface to GDAL. Rasterio is being developed and maintained by mapbox."
   ]
  },
  {
   "cell_type": "code",
   "execution_count": null,
   "metadata": {
    "collapsed": true
   },
   "outputs": [],
   "source": []
  }
 ],
 "metadata": {
  "kernelspec": {
   "display_name": "Python 2",
   "language": "python",
   "name": "python2"
  },
  "language_info": {
   "codemirror_mode": {
    "name": "ipython",
    "version": 2
   },
   "file_extension": ".py",
   "mimetype": "text/x-python",
   "name": "python",
   "nbconvert_exporter": "python",
   "pygments_lexer": "ipython2",
   "version": "2.7.6"
  }
 },
 "nbformat": 4,
 "nbformat_minor": 0
}
