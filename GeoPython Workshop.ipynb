{
 "cells": [
  {
   "cell_type": "markdown",
   "metadata": {},
   "source": [
    "# GeoPython Workshop 2016\n",
    "Welcome to the GeoPython Workshop!\n",
    "\n",
    "The GeoPython workshop aims to introduce Python programming as a means of manipulating geospatial data. The workshop will include exercises and problems where you will analyze and manipulate geospatial data. This workshop is for beginners to the Python programming language and geospatial data.\n",
    "\n",
    "\n",
    "## Requirements\n",
    " - Laptop\n",
    " - Python 2 or 3\n",
    " - Jupyter Notebook\n",
    " - Fiona\n",
    " - Shapely\n",
    " - Gdal\n",
    " - Rasterio\n",
    " - Folium\n",
    " - Numpy\n",
    "\n",
    "\n",
    "## Agenda\n",
    " - Python 101\n",
    "   - Backgrounder\n",
    "   - Simple Maths and Prints\n",
    "   - Lists\n",
    "   - Loops \n",
    "   - If-Elif-Else\n",
    " - Python for Geospatial Applications\n",
    "   - Geospatial Data Types\n",
    "   - Vector x Python\n",
    "   - Raster x Python\n",
    "\n",
    "## Python Backgrounder\n",
    "*Python is a widely used high-level, general-purpose, interpreted, dynamic programming language. Its design philosophy emphasizes code readability, and its syntax allows programmers to express concepts in fewer lines of code than would be possible in languages such as C++ or Java.* - [Wikipedia](https://en.wikipedia.org/wiki/Python_%28programming_language%29)\n",
    "\n",
    "Python is authored by Guido Van Rossum a Dutch programmer. He is known as the Benevolent Dictator for Life. He was employed at Google for 7 years and currently works at Dropbox. \n",
    "\n",
    "Python is currently being used in a wide variety of applications and domains. \n",
    " - Data Science and Engineering\n",
    " - Software Engineering\n",
    " - System Management and Orchestration\n",
    " - Robotics\n",
    " - Journalism\n",
    " - Geospatial World\n",
    " - Disaster Risk Management and Mitigation\n",
    " - And many more\n",
    "\n",
    "![Python in the Real World](images/python_world1.jpg)\n",
    "\n",
    "## Why Python?\n",
    "There are many reasons why many programmers and scientists are shifting to Python.\n",
    " - Readability\n",
    " - Development Time\n",
    " - Flexibility\n",
    " - Community\n",
    "\n",
    "### Printing a text or result\n",
    "In any programming language, printing your results is the bread and butter of your development and debugging. You can determine if your program is working properly just by a simple command. In printing a text, execute the following commands:"
   ]
  },
  {
   "cell_type": "code",
   "execution_count": 61,
   "metadata": {
    "collapsed": false
   },
   "outputs": [
    {
     "name": "stdout",
     "output_type": "stream",
     "text": [
      "FOSS4G waters!\n"
     ]
    }
   ],
   "source": [
    "print(\"FOSS4G waters!\")"
   ]
  },
  {
   "cell_type": "code",
   "execution_count": 62,
   "metadata": {
    "collapsed": false
   },
   "outputs": [
    {
     "name": "stdout",
     "output_type": "stream",
     "text": [
      "\n",
      "This is a multiline text.\n",
      "Python is awesome!        \n",
      "\n"
     ]
    }
   ],
   "source": [
    "print(\"\"\"\n",
    "This is a multiline text.\n",
    "Python is awesome!        \n",
    "\"\"\")"
   ]
  },
  {
   "cell_type": "markdown",
   "metadata": {},
   "source": [
    "### Variable Declaration and Simple Maths\n",
    "Python like any programming language can work with variables and use these variables for your computations. Unlike the other languages like c or java, Python can dynamically determine the variable type."
   ]
  },
  {
   "cell_type": "code",
   "execution_count": 63,
   "metadata": {
    "collapsed": false
   },
   "outputs": [
    {
     "name": "stdout",
     "output_type": "stream",
     "text": [
      "125.0\n"
     ]
    }
   ],
   "source": [
    "a = 25 # this is an integer\n",
    "b = 5.0 # this is a float\n",
    "c = \"Hello FOSS!\" # this is a string\n",
    "d = a * b\n",
    "print(a * b) # this is also the same as print(d)\n"
   ]
  },
  {
   "cell_type": "code",
   "execution_count": 64,
   "metadata": {
    "collapsed": false
   },
   "outputs": [
    {
     "name": "stdout",
     "output_type": "stream",
     "text": [
      "Hello FOSS!\n"
     ]
    }
   ],
   "source": [
    "print(c) # printing a variable with a value of a string"
   ]
  },
  {
   "cell_type": "markdown",
   "metadata": {},
   "source": [
    "### Python Lists\n",
    "We have a special data type in python what we call lists. Lists are your in memory \"databases\" which you can store information and access them later in your program."
   ]
  },
  {
   "cell_type": "code",
   "execution_count": 2,
   "metadata": {
    "collapsed": false
   },
   "outputs": [
    {
     "name": "stdout",
     "output_type": "stream",
     "text": [
      "[1, 2, 100, 4, 10, 23]\n",
      "10\n"
     ]
    }
   ],
   "source": [
    "e = [1,2,3,4,10,23] # this is a list of integers.\n",
    "f = [\"this\", \"is\", \"list\",  \"of\", \"strings\"]\n",
    "g = [\"a list\", \"of\", 2.6] # this is a list of mixed types.\n",
    "h = \"This is also a list\"\n",
    "i = e[-2]\n",
    "\n",
    "e[2] = 100 # set the element of a list using its index.\n",
    "\n",
    "print(e) # displaying the whole list.\n",
    "print(i) # display the 2nd to the last of a given list.\n",
    "# e.append(7000) # this adds an element to the last index of the list e\n",
    "# print(e)"
   ]
  },
  {
   "cell_type": "markdown",
   "metadata": {},
   "source": [
    "### List Operations\n",
    "Python has some built-in functions for handling lists like max, min, len, sorted."
   ]
  },
  {
   "cell_type": "code",
   "execution_count": 66,
   "metadata": {
    "collapsed": false
   },
   "outputs": [
    {
     "name": "stdout",
     "output_type": "stream",
     "text": [
      "6\n"
     ]
    }
   ],
   "source": [
    "print(len(e)) # displays the number of elements"
   ]
  },
  {
   "cell_type": "markdown",
   "metadata": {},
   "source": [
    "### Python Dictionaries\n",
    "A python dictionary is a special data type. Like lists it is an \"in-memory database\" where you can store a result/information. It uses a key to access our information. A dictionary has a curly brace syntax \"{key:value}\"\n"
   ]
  },
  {
   "cell_type": "code",
   "execution_count": 7,
   "metadata": {
    "collapsed": false
   },
   "outputs": [
    {
     "name": "stdout",
     "output_type": "stream",
     "text": [
      "foss4g\n",
      "Help on dict object:\n",
      "\n",
      "class dict(object)\n",
      " |  dict() -> new empty dictionary\n",
      " |  dict(mapping) -> new dictionary initialized from a mapping object's\n",
      " |      (key, value) pairs\n",
      " |  dict(iterable) -> new dictionary initialized as if via:\n",
      " |      d = {}\n",
      " |      for k, v in iterable:\n",
      " |          d[k] = v\n",
      " |  dict(**kwargs) -> new dictionary initialized with the name=value pairs\n",
      " |      in the keyword argument list.  For example:  dict(one=1, two=2)\n",
      " |  \n",
      " |  Methods defined here:\n",
      " |  \n",
      " |  __cmp__(...)\n",
      " |      x.__cmp__(y) <==> cmp(x,y)\n",
      " |  \n",
      " |  __contains__(...)\n",
      " |      D.__contains__(k) -> True if D has a key k, else False\n",
      " |  \n",
      " |  __delitem__(...)\n",
      " |      x.__delitem__(y) <==> del x[y]\n",
      " |  \n",
      " |  __eq__(...)\n",
      " |      x.__eq__(y) <==> x==y\n",
      " |  \n",
      " |  __ge__(...)\n",
      " |      x.__ge__(y) <==> x>=y\n",
      " |  \n",
      " |  __getattribute__(...)\n",
      " |      x.__getattribute__('name') <==> x.name\n",
      " |  \n",
      " |  __getitem__(...)\n",
      " |      x.__getitem__(y) <==> x[y]\n",
      " |  \n",
      " |  __gt__(...)\n",
      " |      x.__gt__(y) <==> x>y\n",
      " |  \n",
      " |  __init__(...)\n",
      " |      x.__init__(...) initializes x; see help(type(x)) for signature\n",
      " |  \n",
      " |  __iter__(...)\n",
      " |      x.__iter__() <==> iter(x)\n",
      " |  \n",
      " |  __le__(...)\n",
      " |      x.__le__(y) <==> x<=y\n",
      " |  \n",
      " |  __len__(...)\n",
      " |      x.__len__() <==> len(x)\n",
      " |  \n",
      " |  __lt__(...)\n",
      " |      x.__lt__(y) <==> x<y\n",
      " |  \n",
      " |  __ne__(...)\n",
      " |      x.__ne__(y) <==> x!=y\n",
      " |  \n",
      " |  __repr__(...)\n",
      " |      x.__repr__() <==> repr(x)\n",
      " |  \n",
      " |  __setitem__(...)\n",
      " |      x.__setitem__(i, y) <==> x[i]=y\n",
      " |  \n",
      " |  __sizeof__(...)\n",
      " |      D.__sizeof__() -> size of D in memory, in bytes\n",
      " |  \n",
      " |  clear(...)\n",
      " |      D.clear() -> None.  Remove all items from D.\n",
      " |  \n",
      " |  copy(...)\n",
      " |      D.copy() -> a shallow copy of D\n",
      " |  \n",
      " |  fromkeys(...)\n",
      " |      dict.fromkeys(S[,v]) -> New dict with keys from S and values equal to v.\n",
      " |      v defaults to None.\n",
      " |  \n",
      " |  get(...)\n",
      " |      D.get(k[,d]) -> D[k] if k in D, else d.  d defaults to None.\n",
      " |  \n",
      " |  has_key(...)\n",
      " |      D.has_key(k) -> True if D has a key k, else False\n",
      " |  \n",
      " |  items(...)\n",
      " |      D.items() -> list of D's (key, value) pairs, as 2-tuples\n",
      " |  \n",
      " |  iteritems(...)\n",
      " |      D.iteritems() -> an iterator over the (key, value) items of D\n",
      " |  \n",
      " |  iterkeys(...)\n",
      " |      D.iterkeys() -> an iterator over the keys of D\n",
      " |  \n",
      " |  itervalues(...)\n",
      " |      D.itervalues() -> an iterator over the values of D\n",
      " |  \n",
      " |  keys(...)\n",
      " |      D.keys() -> list of D's keys\n",
      " |  \n",
      " |  pop(...)\n",
      " |      D.pop(k[,d]) -> v, remove specified key and return the corresponding value.\n",
      " |      If key is not found, d is returned if given, otherwise KeyError is raised\n",
      " |  \n",
      " |  popitem(...)\n",
      " |      D.popitem() -> (k, v), remove and return some (key, value) pair as a\n",
      " |      2-tuple; but raise KeyError if D is empty.\n",
      " |  \n",
      " |  setdefault(...)\n",
      " |      D.setdefault(k[,d]) -> D.get(k,d), also set D[k]=d if k not in D\n",
      " |  \n",
      " |  update(...)\n",
      " |      D.update([E, ]**F) -> None.  Update D from dict/iterable E and F.\n",
      " |      If E present and has a .keys() method, does:     for k in E: D[k] = E[k]\n",
      " |      If E present and lacks .keys() method, does:     for (k, v) in E: D[k] = v\n",
      " |      In either case, this is followed by: for k in F: D[k] = F[k]\n",
      " |  \n",
      " |  values(...)\n",
      " |      D.values() -> list of D's values\n",
      " |  \n",
      " |  viewitems(...)\n",
      " |      D.viewitems() -> a set-like object providing a view on D's items\n",
      " |  \n",
      " |  viewkeys(...)\n",
      " |      D.viewkeys() -> a set-like object providing a view on D's keys\n",
      " |  \n",
      " |  viewvalues(...)\n",
      " |      D.viewvalues() -> an object providing a view on D's values\n",
      " |  \n",
      " |  ----------------------------------------------------------------------\n",
      " |  Data and other attributes defined here:\n",
      " |  \n",
      " |  __hash__ = None\n",
      " |  \n",
      " |  __new__ = <built-in method __new__ of type object>\n",
      " |      T.__new__(S, ...) -> a new object with type S, a subtype of T\n",
      "\n"
     ]
    }
   ],
   "source": [
    "dictionary = {\"event\":\"foss4g\"}\n",
    "print(dictionary[\"event\"])\n",
    "dictionary.update(\"event\",\"workshop\")"
   ]
  },
  {
   "cell_type": "markdown",
   "metadata": {},
   "source": [
    "### Python Loops\n",
    "Like any programming language, Python can also implement loops. We have the following loops - for, while, and do-while. Take note that loops in Python are very slow due to its dynamically typed feature. For large or long mathematical loops it is recommended that you use some other Python libraries like Numpy or SciPy. "
   ]
  },
  {
   "cell_type": "code",
   "execution_count": 67,
   "metadata": {
    "collapsed": false
   },
   "outputs": [
    {
     "name": "stdout",
     "output_type": "stream",
     "text": [
      "this\n",
      "is\n",
      "list\n",
      "of\n",
      "strings\n"
     ]
    }
   ],
   "source": [
    "for x in f:\n",
    "    print(x)"
   ]
  },
  {
   "cell_type": "code",
   "execution_count": 68,
   "metadata": {
    "collapsed": false
   },
   "outputs": [
    {
     "name": "stdout",
     "output_type": "stream",
     "text": [
      "0\n",
      "1\n",
      "2\n",
      "3\n",
      "4\n",
      "5\n",
      "6\n",
      "7\n",
      "8\n",
      "9\n"
     ]
    }
   ],
   "source": [
    "for x in xrange(10): # xrange is deprecated in python 3. just use range instead of xrange\n",
    "    print(x)"
   ]
  },
  {
   "cell_type": "markdown",
   "metadata": {},
   "source": [
    "### Controlling the Loops: If-ElIf-Else and Conditional Statements\n",
    "Python like any programming language, allows you to have conditional statements where you will apply certain criteria that you want to achieve. Let's say you want to determine the numbers greater than 3 in the following list.  "
   ]
  },
  {
   "cell_type": "code",
   "execution_count": 69,
   "metadata": {
    "collapsed": false
   },
   "outputs": [
    {
     "name": "stdout",
     "output_type": "stream",
     "text": [
      "bazzingga!\n",
      "5\n",
      "3.1\n",
      "bazzingga!\n",
      "bazzingga!\n",
      "test\n"
     ]
    }
   ],
   "source": [
    "k = [2, 5, 3.1, 0, -2, \"test\"]\n",
    "for j in k:\n",
    "    if(j > 2.5):\n",
    "        print(j)\n",
    "    #elif(j == 0):\n",
    "    #    break\n",
    "    else:\n",
    "        print(\"bazzingga!\")"
   ]
  },
  {
   "cell_type": "markdown",
   "metadata": {},
   "source": [
    "As you can see, string data types are treated greater than numerical data types like integers and floats."
   ]
  },
  {
   "cell_type": "markdown",
   "metadata": {},
   "source": [
    "## Python for Geospatial Applications\n",
    "Currently the Python programming language is being used as a scripting language to automate different tasks for different GIS platforms like QGIS, Grass GIS and ArcGIS. Python is also used to create Web-based Geographic Information Systems (WebGIS) which is now becoming more popular since most people are now hooked up into their phones and computers. So why use Python instead of using a desktop GIS system? Python allows us to munge different data formats besides geospatial data from hd5, mat, json, dat and any other formats. \n",
    "\n",
    "\n",
    "### Handling Geospatial Data\n",
    "We have two main kinds of geospatial data the raster and vector. Vector datasets are represented as points, lines, and polygons. Most vector data are useful for storing data that has discrete boundaries such land parcels, roads, buildings, points of interest and many others. Raster datasets are generally represented by rectangular grid of pixels. Raster data is focused on modelling continuous phenomena and images of the earth. Generally raster data are your satellite images, digital elevation models, dsm, and others.\n",
    "\n",
    "![Raster vs Vector](images/raster_vector.gif)\n",
    "\n",
    "### Vector x Python\n",
    "Python has several libraries in manipulating and analyzing vector data. Famous libraries include OGR, shapely and fiona. Some of the vector file extensions or formats are as follows:\n",
    " - shp (ESRI Shapefile)\n",
    " - kmz and kml (Keyhole Markup Language)\n",
    " - csv (Comma Separated Values)\n",
    " - geojson (geospatial javascript object notation - commonly used webgis applications)\n",
    " - dxf\n",
    " - xyz\n",
    "\n",
    "### Situation 1: Common Data into Geospatial Data (CSV to SHP)\n",
    "Most geospatial data are from spreadsheets, text files or even pdfs - so we have to convert them to make sense out of these data. \n",
    "\n",
    "In this example we will be turning comma separated values (CSV) into geospatial data. Suppose we have a CSV file containing attributes like name, description, latitude, longitude etc, we want to turn this csv into a shapefile so we can load this into QGIS. The code tutorial came from Tom Macwright which can be viewed [here.](http://www.macwright.org/2012/10/31/gis-with-python-shapely-fiona.html)"
   ]
  },
  {
   "cell_type": "code",
   "execution_count": 1,
   "metadata": {
    "collapsed": false
   },
   "outputs": [
    {
     "name": "stdout",
     "output_type": "stream",
     "text": [
      "{'Max Value': '1327512.36221', 'Latitude': '19.392', 'Place': 'Katanapan Point-Cagayan Valley', 'id': '1', 'Longitude': '121.156'}\n",
      "{'Max Value': '1262860.15324', 'Latitude': '19.4', 'Place': 'Katanapan Point-Cagayan Valley', 'id': '2', 'Longitude': '121.156'}\n",
      "{'Max Value': '1253266.53637', 'Latitude': '19.352', 'Place': 'Cabudadan-Cagayan Valley', 'id': '3', 'Longitude': '121.444'}\n",
      "{'Max Value': '1244616.1615', 'Latitude': '18.936', 'Place': 'Cape Bojeador-Ilocos', 'id': '4', 'Longitude': '119.996'}\n",
      "{'Max Value': '1223701.93723', 'Latitude': '18.936', 'Place': 'Cape Bojeador-Ilocos', 'id': '5', 'Longitude': '119.988'}\n",
      "{'Max Value': '1197975.16676', 'Latitude': '19.408', 'Place': 'Katanapan Point-Cagayan Valley', 'id': '6', 'Longitude': '121.148'}\n",
      "{'Max Value': '1186722.44419', 'Latitude': '19.344', 'Place': 'Cabudadan-Cagayan Valley', 'id': '7', 'Longitude': '121.444'}\n",
      "{'Max Value': '1179809.84815', 'Latitude': '19.4', 'Place': 'Katanapan Point-Cagayan Valley', 'id': '8', 'Longitude': '121.148'}\n",
      "{'Max Value': '1148528.01435', 'Latitude': '19.384', 'Place': 'Katanapan Point-Cagayan Valley', 'id': '9', 'Longitude': '121.18'}\n",
      "{'Max Value': '1127088.12284', 'Latitude': '18.944', 'Place': 'cannot be geocoded', 'id': '10', 'Longitude': '119.964'}\n"
     ]
    }
   ],
   "source": [
    "import csv # let's use an external library to read csv files\n",
    "with open('data/top10sites.csv', 'rb') as csvfile: # this reads the csv file\n",
    "    reader = csv.DictReader(csvfile) # this converts each row into a python dictionary.\n",
    "    for row in reader:\n",
    "        print(row)\n",
    "        #print(row[\"Place\"]) # you can access data using a certain key"
   ]
  },
  {
   "cell_type": "code",
   "execution_count": 71,
   "metadata": {
    "collapsed": false
   },
   "outputs": [
    {
     "name": "stdout",
     "output_type": "stream",
     "text": [
      "POINT (121.156 19.392)\n",
      "POINT (121.156 19.4)\n",
      "POINT (121.444 19.352)\n",
      "POINT (119.996 18.936)\n",
      "POINT (119.988 18.936)\n",
      "POINT (121.148 19.408)\n",
      "POINT (121.444 19.344)\n",
      "POINT (121.148 19.4)\n",
      "POINT (121.18 19.384)\n",
      "POINT (119.964 18.944)\n"
     ]
    }
   ],
   "source": [
    "# Now that we can read a csv. Let us try to convert the latitude and longitude into actual point geometries\n",
    "import csv\n",
    "from shapely.geometry import Point\n",
    "\n",
    "with open('data/top10sites.csv', 'rb') as csvfile:\n",
    "    reader = csv.DictReader(csvfile)\n",
    "    for row in reader:\n",
    "        point = Point(float(row['Longitude']), float(row['Latitude']))\n",
    "        print(point)"
   ]
  },
  {
   "cell_type": "code",
   "execution_count": 72,
   "metadata": {
    "collapsed": false
   },
   "outputs": [],
   "source": [
    "import csv\n",
    "from shapely.geometry import Point, mapping\n",
    "from fiona import collection\n",
    "\n",
    "# We are now defining the structure of the shapefile - remember that we can create either a point, line, polygon for the shapefile.\n",
    "schema = { 'geometry': 'Point', 'properties': { 'place': 'str' } }\n",
    "with collection(\n",
    "    \"output/top10sites.shp\", \"w\", \"ESRI Shapefile\", schema) as output:\n",
    "    with open('data/top10sites.csv', 'rb') as f:\n",
    "        reader = csv.DictReader(f)\n",
    "        for row in reader:\n",
    "            # Once we have finished converting each latitude and longitude into actual geometries we can now convert them into actual shapefiles.\n",
    "            point = Point(float(row['Longitude']), float(row['Latitude']))\n",
    "            # we are now writing the shapefile\n",
    "            output.write({\n",
    "                'properties': {\n",
    "                    'place': row['Place']\n",
    "                },\n",
    "                'geometry': mapping(point)\n",
    "            })"
   ]
  },
  {
   "cell_type": "markdown",
   "metadata": {},
   "source": [
    "### Situation 2: Reading SHP Files\n",
    "Most GIS vector data are written with Esri's shapefiles(SHP). Shapefiles is a group of files which contain the projection, attributes and geometry of the object they represent. In this scenario, we will try to read the shapefile that we have produced from the previous situation. We both of the libraries that we have used in the previous example. "
   ]
  },
  {
   "cell_type": "code",
   "execution_count": 73,
   "metadata": {
    "collapsed": false
   },
   "outputs": [
    {
     "name": "stdout",
     "output_type": "stream",
     "text": [
      "POINT (121.156 19.392)\n",
      "POINT (121.156 19.4)\n",
      "POINT (121.444 19.352)\n",
      "POINT (119.996 18.936)\n",
      "POINT (119.988 18.936)\n",
      "POINT (121.148 19.408)\n",
      "POINT (121.444 19.344)\n",
      "POINT (121.148 19.4)\n",
      "POINT (121.18 19.384)\n",
      "POINT (119.964 18.944)\n"
     ]
    }
   ],
   "source": [
    "from fiona import collection\n",
    "from shapely.geometry import Point, shape\n",
    "with collection(\"output/top10sites.shp\", \"r\") as input:\n",
    "    for point in input:\n",
    "        print shape(point['geometry'])"
   ]
  },
  {
   "cell_type": "markdown",
   "metadata": {},
   "source": [
    "You will notice that the output of the script is the same as the result in situation 1 when converting the latitude and longitude into point geometries.\n",
    "\n",
    "### Challenge 1: (Center of the View)\n",
    "Every shapefile can be encapsulated by a bounding box. Your job is to determine the center of the shapefile using its bounding box. We will need this in the next section. \n",
    "\n",
    "**Hint** How do we determine the center of a square?"
   ]
  },
  {
   "cell_type": "code",
   "execution_count": 74,
   "metadata": {
    "collapsed": false
   },
   "outputs": [
    {
     "name": "stdout",
     "output_type": "stream",
     "text": [
      "[19.172, 120.70400000000001]\n"
     ]
    }
   ],
   "source": [
    "lng = []\n",
    "lat = []\n",
    "with collection(\"output/top10sites.shp\", \"r\") as input:\n",
    "    # print(len(input)) # this prints the number of features\n",
    "    for point in input:\n",
    "        lng.append(point['geometry']['coordinates'][0])\n",
    "        lat.append(point['geometry']['coordinates'][1])\n",
    "\n",
    "centerlng = (max(lng) + min(lng)) * 0.5\n",
    "centerlat = (max(lat) + min(lat)) * 0.5\n",
    "\n",
    "center = [centerlat, centerlng]\n",
    "print(center)"
   ]
  },
  {
   "cell_type": "markdown",
   "metadata": {},
   "source": [
    "### Situation 3: Visualizing Vector Data\n",
    "There are many visualization libraries in Python like Matplotlib, Bokeh, Seaborn, etc. In this example, we will use folium which helps us in visualizing geospatial data. Folium uses leaflet js as its mapping platform so it simplifies our visualization workflow.\n",
    "\n",
    "**Creating a Basemap**"
   ]
  },
  {
   "cell_type": "code",
   "execution_count": 75,
   "metadata": {
    "collapsed": false,
    "scrolled": false
   },
   "outputs": [
    {
     "data": {
      "text/html": [
       "<div style=\"width:100%;\"><div style=\"position:relative;width:100%;height:0;padding-bottom:60%;\"><iframe src=\"data:text/html;base64,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\" style=\"position:absolute;width:100%;height:100%;left:0;top:0;\"></iframe></div></div>"
      ],
      "text/plain": [
       "<folium.folium.Map at 0x7f60cafe6f10>"
      ]
     },
     "execution_count": 75,
     "metadata": {},
     "output_type": "execute_result"
    }
   ],
   "source": [
    "import folium\n",
    "map_osm = folium.Map(location=center, zoom_start=5) # adding a basemap\n",
    "map_osm\n"
   ]
  },
  {
   "cell_type": "markdown",
   "metadata": {},
   "source": [
    "**Add the vector on the map**"
   ]
  },
  {
   "cell_type": "code",
   "execution_count": 76,
   "metadata": {
    "collapsed": false,
    "scrolled": true
   },
   "outputs": [
    {
     "data": {
      "text/html": [
       "<div style=\"width:100%;\"><div style=\"position:relative;width:100%;height:0;padding-bottom:60%;\"><iframe src=\"data:text/html;base64,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\" style=\"position:absolute;width:100%;height:100%;left:0;top:0;\"></iframe></div></div>"
      ],
      "text/plain": [
       "<folium.folium.Map at 0x7f60cafe6f10>"
      ]
     },
     "execution_count": 76,
     "metadata": {},
     "output_type": "execute_result"
    }
   ],
   "source": [
    "from fiona import collection\n",
    "from shapely.geometry import Point, shape\n",
    "with collection(\"output/top10sites.shp\", \"r\") as input:\n",
    "    for point in input:\n",
    "        # folium.Marker([point['geometry']['coordinates'][1], point['geometry']['coordinates'][0]], \n",
    "        #               popup=point['properties']['place']).add_to(map_osm)\n",
    "        folium.GeoJson(point,\n",
    "               name='geojson'\n",
    "              ).add_to(map_osm)\n",
    "map_osm"
   ]
  },
  {
   "cell_type": "markdown",
   "metadata": {},
   "source": [
    "### Situation 4: Vector Processing - Buffer\n",
    "Shapely contains some simple vector processing functions like buffer and union. In this scenario, we will create a buffer around the 10 individual points we have converted to a shapefile. Shapely will produce an external shapefile as output."
   ]
  },
  {
   "cell_type": "code",
   "execution_count": 77,
   "metadata": {
    "collapsed": false
   },
   "outputs": [],
   "source": [
    "from shapely.geometry import mapping, shape\n",
    "from fiona import collection\n",
    "\n",
    "with collection(\"output/top10sites.shp\", \"r\") as input:\n",
    "    schema = { 'geometry': 'Polygon', 'properties': { 'name': 'str' } } # build the schema of the output buffer shape\n",
    "    with collection(\n",
    "        \"output/top10sites_buffer.shp\", \"w\", \"ESRI Shapefile\", schema) as output:\n",
    "        for point in input:\n",
    "            output.write({\n",
    "                'properties': {\n",
    "                    'name': point['properties']['place']\n",
    "                },\n",
    "                # Executing a buffer around our 10 points.\n",
    "                'geometry': mapping(shape(point['geometry']).buffer(0.5))\n",
    "            })"
   ]
  },
  {
   "cell_type": "markdown",
   "metadata": {},
   "source": [
    "### Challenge 2: Display the buffer output on a map\n"
   ]
  },
  {
   "cell_type": "code",
   "execution_count": 78,
   "metadata": {
    "collapsed": false
   },
   "outputs": [
    {
     "data": {
      "text/html": [
       "<div style=\"width:100%;\"><div style=\"position:relative;width:100%;height:0;padding-bottom:60%;\"><iframe src=\"data:text/html;base64,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\" style=\"position:absolute;width:100%;height:100%;left:0;top:0;\"></iframe></div></div>"
      ],
      "text/plain": [
       "<folium.folium.Map at 0x7f60cafe6f10>"
      ]
     },
     "execution_count": 78,
     "metadata": {},
     "output_type": "execute_result"
    }
   ],
   "source": [
    "from shapely.geometry import mapping, shape\n",
    "from fiona import collection\n",
    "\n",
    "with collection(\"output/top10sites_buffer.shp\", \"r\") as input:\n",
    "    for point in input:\n",
    "        folium.GeoJson(point,\n",
    "               name='geojson'\n",
    "              ).add_to(map_osm)\n",
    "map_osm"
   ]
  },
  {
   "cell_type": "markdown",
   "metadata": {
    "collapsed": true
   },
   "source": [
    "### Raster x  Python\n",
    "Rasters are images. Raster data is composed of pixels containing values. Each pixel contains a coordinate and a projection and other image parameters. Python has a wide variety of image processing libraries and algorithms but they lack geospatial capability. To add the geospatial capability to our image processing workflows we will need to use GDAL and/or rasterio. GDAL allows us to read and write raster images with geospatial capability. Rasterio act as an interface to GDAL. Rasterio is being developed and maintained by mapbox.\n",
    "\n",
    "### Common Raster Formats\n",
    "  - TIFF\n",
    "  - JPEG\n",
    "  - PNG\n",
    "  - Any Other Image Format with Geospatial Parameters\n",
    "\n",
    "### Situation 5: Reading Raster Images\n",
    "To read raster files, we will be using rasterio. We can consider images as one matrix where will process each pixel/kernel as one matrix element. To manipulate matrices in Python we will use Numpy, a matrix manipulation library. Numpy is optimized to handle large matrices. In this scenario, we will read a raster file then access an element of the image matrix using numpy."
   ]
  },
  {
   "cell_type": "code",
   "execution_count": null,
   "metadata": {
    "collapsed": true
   },
   "outputs": [],
   "source": []
  }
 ],
 "metadata": {
  "kernelspec": {
   "display_name": "Python 2",
   "language": "python",
   "name": "python2"
  },
  "language_info": {
   "codemirror_mode": {
    "name": "ipython",
    "version": 2
   },
   "file_extension": ".py",
   "mimetype": "text/x-python",
   "name": "python",
   "nbconvert_exporter": "python",
   "pygments_lexer": "ipython2",
   "version": "2.7.6"
  }
 },
 "nbformat": 4,
 "nbformat_minor": 0
}
